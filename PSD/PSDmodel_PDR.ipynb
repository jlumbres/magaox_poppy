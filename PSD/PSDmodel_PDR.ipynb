{
 "cells": [
  {
   "cell_type": "code",
   "execution_count": 2,
   "metadata": {},
   "outputs": [],
   "source": [
    "%matplotlib inline\n",
    "import numpy as np\n",
    "import matplotlib.pyplot as plt\n",
    "import matplotlib\n",
    "from astropy import units as u\n",
    "from astropy.io import fits\n",
    "import pickle"
   ]
  },
  {
   "cell_type": "markdown",
   "metadata": {},
   "source": [
    "### M2 and M3 data"
   ]
  },
  {
   "cell_type": "code",
   "execution_count": 3,
   "metadata": {},
   "outputs": [],
   "source": [
    "m2_hdr = fits.open('/home/jhen/XWCL/code/MagAOX/data/PSDflatSet1/M2_fitpsd.fits')[0].header\n",
    "m2_alpha = m2_hdr['alpha']\n",
    "m2_beta = m2_hdr['beta']*(m2_hdr['puplscal']**2)*(u.nm**2)/(u.m**(m2_alpha-2))\n",
    "m2_psd = [m2_alpha, m2_beta, 0.0*u.m, 0.0, 0.0*(u.m*u.nm)**2]\n",
    "\n",
    "m3_hdr = fits.open('/home/jhen/XWCL/code/MagAOX/data/PSDflatSet1/M3_fitpsd.fits')[0].header\n",
    "m3_alpha = m3_hdr['alpha']\n",
    "m3_beta = m3_hdr['beta']*(m3_hdr['puplscal']**2)*(u.nm**2)/(u.m**(m3_alpha-2))\n",
    "m3_psd = [m3_alpha, m3_beta, 0.0*u.m, 0.0, 0.0*(u.m*u.nm)**2]\n",
    "\n",
    "m2m3_dict = {'psd_m2': [m2_psd],\n",
    "             'psd_m2_weight': [1.0],\n",
    "             'psd_m2_rms': 12.7*u.nm, # PDR definition\n",
    "             'psd_m3': [m3_psd],\n",
    "             'psd_m3_weight': [1.0],\n",
    "             'psd_m3_rms': 13.8*u.m} # PDR definition\n",
    "\n",
    "# save the directory as a pickle\n",
    "filename='/home/jhen/XWCL/code/MagAOX/PSD/model_parameters/psd_parms_m2m3.pickle'\n",
    "with open(filename,'wb') as psd_parameter_file:\n",
    "    pickle.dump(m2m3_dict, psd_parameter_file, protocol=4)"
   ]
  },
  {
   "cell_type": "markdown",
   "metadata": {},
   "source": [
    "### OAP and flat mirror PSD values"
   ]
  },
  {
   "cell_type": "code",
   "execution_count": 4,
   "metadata": {},
   "outputs": [],
   "source": [
    "oap_hdr = fits.open('/home/jhen/XWCL/code/MagAOX/data/PSDflatSet1/oap_HP_1.fits')[0].header\n",
    "oap_alpha = oap_hdr['alpha']\n",
    "oap_beta = oap_hdr['beta']*(oap_hdr['puplscal']**2)*(u.nm**2)/(u.m**(oap_alpha-2))\n",
    "oap_os = oap_hdr['os']*u.m\n",
    "oap_is = oap_hdr['is']\n",
    "oap_psd = [oap_alpha, oap_beta, oap_os, oap_is, 0.0*(u.m*u.nm)**2]\n",
    "\n",
    "fm_hdr = fits.open('/home/jhen/XWCL/code/MagAOX/data/PSDflatSet1/flat_l100_1.fits')[0].header\n",
    "fm_alpha = fm_hdr['alpha']\n",
    "fm_beta = fm_hdr['beta']*(fm_hdr['puplscal']**2)*(u.nm**2)/(u.m**(fm_alpha-2))\n",
    "fm_os = fm_hdr['os']*u.m\n",
    "fm_is = fm_hdr['is']\n",
    "fm_psd = [fm_alpha, fm_beta, fm_os, fm_is, 0.0*(u.m*u.nm)**2]\n",
    "\n",
    "pdr_dict = {'psd_oap_pdr': [oap_psd],\n",
    "            'psd_oap_pdr_weight': [1.0],\n",
    "            'psd_oap_pdr_rms': 14.4157*u.nm, # calculated with pdr values in psd model notebooks\n",
    "            'psd_fm_pdr': [fm_psd],\n",
    "            'psd_fm_pdr_weight': [1.0],\n",
    "            'psd_fm_pdr_rms': 8.4588*u.nm} # calculated with pdr values in 1-inch fm model notebooks\n",
    "\n",
    "# save the directory as a pickle\n",
    "filename='/home/jhen/XWCL/code/MagAOX/PSD/model_parameters/psd_parms_pdr.pickle'\n",
    "with open(filename,'wb') as psd_parameter_file:\n",
    "    pickle.dump(pdr_dict, psd_parameter_file, protocol=4)"
   ]
  },
  {
   "cell_type": "markdown",
   "metadata": {},
   "source": [
    "### OAP and flat mirror verification"
   ]
  },
  {
   "cell_type": "code",
   "execution_count": 18,
   "metadata": {},
   "outputs": [
    {
     "data": {
      "text/plain": [
       "(1, 1)"
      ]
     },
     "execution_count": 18,
     "metadata": {},
     "output_type": "execute_result"
    }
   ],
   "source": [
    "# PDR values\n",
    "\n",
    "# verify all flats contain similar values to each other\n",
    "fa = []\n",
    "fb = []\n",
    "fos = []\n",
    "fis = []\n",
    "for n in range(0, 12):\n",
    "    hdr = fits.open('/home/jhen/XWCL/code/MagAOX/data/PSDflatSet1/flat_l100_{0}.fits'.format(n))[0].header\n",
    "    ta = hdr['alpha']\n",
    "    fa.append(ta)\n",
    "    fb.append(hdr['beta']*(hdr['puplscal']**2)*(u.nm**2)/(u.m**(ta-2)))\n",
    "    fos.append(hdr['os'])\n",
    "    fis.append(hdr['is'])\n",
    "    \n",
    "(np.unique(fa).shape[0], np.unique(fis).shape[0])"
   ]
  },
  {
   "cell_type": "code",
   "execution_count": 17,
   "metadata": {},
   "outputs": [
    {
     "data": {
      "text/plain": [
       "([<Quantity 2.55 nm2>,\n",
       "  <Quantity 2.55 nm2>,\n",
       "  <Quantity 2.55 nm2>,\n",
       "  <Quantity 2.55 nm2>,\n",
       "  <Quantity 2.55 nm2>,\n",
       "  <Quantity 2.55 nm2>,\n",
       "  <Quantity 2.55 nm2>,\n",
       "  <Quantity 2.55 nm2>,\n",
       "  <Quantity 2.55 nm2>,\n",
       "  <Quantity 2.55 nm2>,\n",
       "  <Quantity 2.55 nm2>,\n",
       "  <Quantity 2.55 nm2>],\n",
       " [<Quantity 0. m>,\n",
       "  <Quantity 0. m>,\n",
       "  <Quantity 0. m>,\n",
       "  <Quantity 0. m>,\n",
       "  <Quantity 0. m>,\n",
       "  <Quantity 0. m>,\n",
       "  <Quantity 0. m>,\n",
       "  <Quantity 0. m>,\n",
       "  <Quantity 0. m>,\n",
       "  <Quantity 0. m>,\n",
       "  <Quantity 0. m>,\n",
       "  <Quantity 0. m>])"
      ]
     },
     "execution_count": 17,
     "metadata": {},
     "output_type": "execute_result"
    }
   ],
   "source": [
    "(fb, fos)"
   ]
  },
  {
   "cell_type": "code",
   "execution_count": 20,
   "metadata": {},
   "outputs": [
    {
     "data": {
      "text/plain": [
       "(1, 1)"
      ]
     },
     "execution_count": 20,
     "metadata": {},
     "output_type": "execute_result"
    }
   ],
   "source": [
    "# PDR values\n",
    "\n",
    "# verify all oaps contain similar values to each other\n",
    "fa = []\n",
    "fb = []\n",
    "fos = []\n",
    "fis = []\n",
    "for n in range(0, 8):\n",
    "    hdr = fits.open('/home/jhen/XWCL/code/MagAOX/data/PSDflatSet1/oap_HP_{0}.fits'.format(n))[0].header\n",
    "    ta = hdr['alpha']\n",
    "    fa.append(ta)\n",
    "    fb.append(hdr['beta']*(hdr['puplscal']**2)*(u.nm**2)/(u.m**(ta-2)))\n",
    "    fos.append(hdr['os'])\n",
    "    fis.append(hdr['is'])\n",
    "    \n",
    "(np.unique(fa).shape[0], np.unique(fis).shape[0])"
   ]
  },
  {
   "cell_type": "code",
   "execution_count": 21,
   "metadata": {},
   "outputs": [
    {
     "data": {
      "text/plain": [
       "([<Quantity 0.637 m(9/20) nm2>,\n",
       "  <Quantity 0.637 m(9/20) nm2>,\n",
       "  <Quantity 0.637 m(9/20) nm2>,\n",
       "  <Quantity 0.637 m(9/20) nm2>,\n",
       "  <Quantity 0.637 m(9/20) nm2>,\n",
       "  <Quantity 0.637 m(9/20) nm2>,\n",
       "  <Quantity 0.637 m(9/20) nm2>,\n",
       "  <Quantity 0.637 m(9/20) nm2>],\n",
       " [0.1, 0.1, 0.1, 0.1, 0.1, 0.1, 0.1, 0.1])"
      ]
     },
     "execution_count": 21,
     "metadata": {},
     "output_type": "execute_result"
    }
   ],
   "source": [
    "(fb, fos)"
   ]
  },
  {
   "cell_type": "code",
   "execution_count": null,
   "metadata": {},
   "outputs": [],
   "source": []
  },
  {
   "cell_type": "code",
   "execution_count": null,
   "metadata": {},
   "outputs": [],
   "source": []
  },
  {
   "cell_type": "code",
   "execution_count": null,
   "metadata": {},
   "outputs": [],
   "source": []
  }
 ],
 "metadata": {
  "kernelspec": {
   "display_name": "Python 3",
   "language": "python",
   "name": "python3"
  },
  "language_info": {
   "codemirror_mode": {
    "name": "ipython",
    "version": 3
   },
   "file_extension": ".py",
   "mimetype": "text/x-python",
   "name": "python",
   "nbconvert_exporter": "python",
   "pygments_lexer": "ipython3",
   "version": "3.7.4"
  }
 },
 "nbformat": 4,
 "nbformat_minor": 4
}
