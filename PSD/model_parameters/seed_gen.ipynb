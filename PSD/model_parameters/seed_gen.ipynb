{
 "cells": [
  {
   "cell_type": "code",
   "execution_count": 1,
   "metadata": {},
   "outputs": [],
   "source": [
    "import numpy as np\n",
    "import random"
   ]
  },
  {
   "cell_type": "code",
   "execution_count": 3,
   "metadata": {},
   "outputs": [
    {
     "name": "stdout",
     "output_type": "stream",
     "text": [
      "j=0, set size: (10, 36)\n",
      "j=1, set size: (10, 36)\n",
      "j=2, set size: (10, 36)\n",
      "j=3, set size: (10, 36)\n",
      "j=4, set size: (10, 36)\n",
      "j=5, set size: (10, 36)\n",
      "j=6, set size: (10, 36)\n",
      "j=7, set size: (10, 36)\n",
      "j=8, set size: (10, 36)\n",
      "j=9, set size: (10, 36)\n"
     ]
    }
   ],
   "source": [
    "n_test = 100\n",
    "n_rx = 36\n",
    "n_rand = n_rx * n_test\n",
    "seeds = random.sample(range(n_rand*5), n_rand)\n",
    "seeds = np.reshape(seeds, (n_test, n_rx))\n",
    "np.save('seed_set_100_all.npy', seeds)\n",
    "\n",
    "# save out by set of 10\n",
    "nset_test = int(n_test/10)\n",
    "for j in range(0, nset_test):\n",
    "    j_start = j * 10\n",
    "    j_end = ((j+1) * 10)\n",
    "    save_array = seeds[j_start:j_end]\n",
    "    print('j={0}, set size: {1}'.format(j, save_array.shape))\n",
    "    np.save('seed_set_10_n{0}.npy'.format(j), save_array)"
   ]
  },
  {
   "cell_type": "code",
   "execution_count": 5,
   "metadata": {},
   "outputs": [
    {
     "data": {
      "text/plain": [
       "(3600,)"
      ]
     },
     "execution_count": 5,
     "metadata": {},
     "output_type": "execute_result"
    }
   ],
   "source": [
    "np.unique(seeds).shape"
   ]
  }
 ],
 "metadata": {
  "kernelspec": {
   "display_name": "Python 3",
   "language": "python",
   "name": "python3"
  },
  "language_info": {
   "codemirror_mode": {
    "name": "ipython",
    "version": 3
   },
   "file_extension": ".py",
   "mimetype": "text/x-python",
   "name": "python",
   "nbconvert_exporter": "python",
   "pygments_lexer": "ipython3",
   "version": "3.7.4"
  }
 },
 "nbformat": 4,
 "nbformat_minor": 4
}
