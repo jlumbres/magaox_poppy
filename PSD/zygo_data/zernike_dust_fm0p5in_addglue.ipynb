{
 "cells": [
  {
   "cell_type": "markdown",
   "metadata": {},
   "source": [
    "#### NOTE ABOUT THE PSD CALCULATIONS\n",
    "Throwing away steps 4, 5 from each optic because they have a strange defocus component."
   ]
  },
  {
   "cell_type": "code",
   "execution_count": 2,
   "metadata": {},
   "outputs": [
    {
     "data": {
      "text/html": [
       "<style>.container { width:100% !important; }</style>"
      ],
      "text/plain": [
       "<IPython.core.display.HTML object>"
      ]
     },
     "metadata": {},
     "output_type": "display_data"
    },
    {
     "name": "stdout",
     "output_type": "stream",
     "text": [
      "Last date this notebook has been ran: 15/11/2020 19:51:47\n"
     ]
    }
   ],
   "source": [
    "%reload_ext autoreload\n",
    "%autoreload 2\n",
    "%matplotlib inline\n",
    "#load modules\n",
    "import numpy as np\n",
    "np.set_printoptions(suppress=True) # scientific notation gets annoying\n",
    "import matplotlib.pyplot as plt\n",
    "import matplotlib\n",
    "from astropy import units as u\n",
    "from astropy.io import fits\n",
    "from mpl_toolkits.axes_grid1 import make_axes_locatable\n",
    "import scipy.ndimage\n",
    "\n",
    "# draw the dark hole regions\n",
    "from skimage.draw import draw\n",
    "\n",
    "# PSD code\n",
    "import h5py\n",
    "import copy\n",
    "\n",
    "# import personal code\n",
    "from model_kit import psd_functions as psd\n",
    "from model_kit import datafiles as dfx\n",
    "from model_kit import zernike as zern\n",
    "from model_kit import dust\n",
    "import poppy\n",
    "\n",
    "from IPython.core.display import display, HTML\n",
    "display(HTML(\"<style>.container { width:100% !important; }</style>\"))\n",
    "\n",
    "from datetime import datetime\n",
    "date_ran = datetime.now()\n",
    "dr_str = date_ran.strftime(\"%d/%m/%Y %H:%M:%S\")\n",
    "print('Last date this notebook has been ran: {0}'.format(dr_str))"
   ]
  },
  {
   "cell_type": "code",
   "execution_count": 3,
   "metadata": {
    "scrolled": true
   },
   "outputs": [],
   "source": [
    "# initialize the data\n",
    "tot_fm = 1\n",
    "tot_step= 4 # the last 2 step sets are bad news \n",
    "fits_folder = 'flat_mirrors/fixed_fits/'\n",
    "raw_folder = 'flat_mirrors/2018_03_23/'\n",
    "\n",
    "opt_parms = {'ca' : 80, # of the 80% CA given\n",
    "             'ovs': 4096,\n",
    "             'diam_100CA': 0.0125*u.m, #12.5*u.mm,\n",
    "             'label': '0p5in',\n",
    "             'surf_units': u.micron,\n",
    "             'ring_width': 5,\n",
    "             'kmid_ll': 100/u.m, #0.1/u.mm,\n",
    "             'khigh_ll': 1000/u.m} #1/u.mm}\n",
    "\n",
    "# import the zernike difference produced by glue\n",
    "import pickle\n",
    "filename='/home/jhen/XWCL/code/MagAOX/PSD/zygo_data/zern_glue_diff.pickle'\n",
    "objects = []\n",
    "with (open(filename, \"rb\")) as openfile:\n",
    "    while True:\n",
    "        try:\n",
    "            objects.append(pickle.load(openfile))\n",
    "        except EOFError:\n",
    "            break\n",
    "zern_glue_diff = objects[0]['zern_glue_diff']\n",
    "\n",
    "# load the unglued surfaces and dust masks\n",
    "nt_ptt = 3\n",
    "for nf in range(0, tot_fm):\n",
    "    fm_num = nf+1\n",
    "    for ns in range(0, tot_step):\n",
    "        surf_name = 'flat_{0}_n{1}_{2}CA_step{3}'.format(opt_parms['label'], nf+1,\n",
    "                                                         opt_parms['ca'], ns)\n",
    "        mask = fits.open(fits_folder+surf_name+'_bigdust_mask.fits')[0].data\n",
    "        surf_fits = fits.open(fits_folder+surf_name+'_z{0}_surf.fits'.format(nt_ptt))[0]\n",
    "        surf_data = surf_fits.data * mask\n",
    "        surf_hdr = surf_fits.header\n",
    "        \n",
    "        if ns==0 and nf==0:\n",
    "            opt_parms['wavelen'] = surf_hdr['wavelen'] * u.m\n",
    "            opt_parms['latres'] = surf_hdr['latres'] * u.m\n",
    "            opt_parms['diam_ca'] = surf_hdr['diam_ca'] * u.m\n",
    "            data_set = np.zeros((tot_fm, tot_step, mask.shape[0], mask.shape[0]))\n",
    "            dust_set = np.zeros((tot_fm, tot_step, mask.shape[0], mask.shape[0]))\n",
    "        \n",
    "        data_set[nf][ns] = surf_data\n",
    "        dust_set[nf][ns] = mask\n",
    "data_set = data_set * opt_parms['surf_units']"
   ]
  },
  {
   "cell_type": "code",
   "execution_count": 4,
   "metadata": {},
   "outputs": [],
   "source": [
    "# Apply the glue zernikes, save as .FITS to evalulate with L-S\n",
    "nt_glue = 11\n",
    "glue_surf = np.zeros_like(dust_set)\n",
    "for nf in range(0, tot_fm): # choose optic\n",
    "    for ns in range(0, tot_step):\n",
    "        dust_mask = dust_set[nf][ns]\n",
    "        test_surf = data_set[nf][ns]\n",
    "        # build the Zernikes using the arbitrary basis for mask holes\n",
    "        zm = poppy.zernike.arbitrary_basis(aperture=dust_mask, nterms=nt_glue, outside=0.0)\n",
    "\n",
    "        # change surface units from microns to radians\n",
    "        data_surf = test_surf/(opt_parms['wavelen'].to(test_surf.unit)/(2*np.pi*u.radian))\n",
    "            \n",
    "        # Apply the average glue Zernike values\n",
    "        for j in range(3, nt_glue): # skip PTT\n",
    "            data_surf = (data_surf + (zern_glue_diff[j]*zm[j]*u.rad)) * dust_mask\n",
    "\n",
    "        # convert back to surface units\n",
    "        final_surf = (data_surf * (opt_parms['wavelen'].to(test_surf.unit)/(2*np.pi*u.radian))).value\n",
    "        \n",
    "        # write to file\n",
    "        glue_surf[nf][ns] = final_surf\n",
    "        \n",
    "        header = fits.Header()\n",
    "        header['wavelen'] = (opt_parms['wavelen'].value,\n",
    "                             'Zygo wavelength [{0}]'.format(opt_parms['wavelen'].unit))\n",
    "        header['latres'] = (opt_parms['latres'].value,\n",
    "                            'Lateral resolution [{0}]'.format(opt_parms['latres'].unit))\n",
    "        header['surfunit'] = (str(test_surf.unit),\n",
    "                              'Surface Units')\n",
    "        header['diam_100'] = (opt_parms['diam_100CA'].value,\n",
    "                              'Full optic diameter at 100% CA [{0}]'.format(opt_parms['diam_100CA'].unit))\n",
    "        header['diam_ca'] = (opt_parms['diam_ca'].value, \n",
    "                             'Data diameter at clear aperture [{0}]'.format(opt_parms['diam_ca'].unit))\n",
    "        header['clear_ap'] = (opt_parms['ca'], \n",
    "                              'Clear aperture [percent]')\n",
    "        surf_name = 'flat_{0}_n{1}_{2}CA_step{3}'.format(opt_parms['label'], nf+1,\n",
    "                                                         opt_parms['ca'], ns)\n",
    "        #fits.writeto(fits_folder+surf_name+'_bigdust_mask.fits', dust_mask, header, overwrite=True)\n",
    "        header['COMMENT'] = 'Surface has PTT Zernikes removed with dust not regarded'\n",
    "        header['COMMENT'] = 'Glue zernike aberrations have been applied for n=4:11 (Noll)'\n",
    "        fits.writeto(fits_folder+surf_name+'_glue_surf.fits', final_surf, header, overwrite=True)\n",
    "\n",
    "glue_surf = glue_surf * test_surf.unit"
   ]
  },
  {
   "cell_type": "code",
   "execution_count": 5,
   "metadata": {},
   "outputs": [
    {
     "name": "stdout",
     "output_type": "stream",
     "text": [
      "CPU times: user 169 ms, sys: 0 ns, total: 169 ms\n",
      "Wall time: 169 ms\n"
     ]
    }
   ],
   "source": [
    "%%time\n",
    "# open and calculate non-glue average PSD for comparison\n",
    "psd_folder = 'flat_mirrors/mvls_psd/'\n",
    "mvls_name = 'lspsd_fm_{0}_avg_z3.fits'.format(opt_parms['label'])\n",
    "fm_psd_fits = fits.open(psd_folder+mvls_name)[0]\n",
    "ng_avg = fm_psd_fits.data * (u.nm*u.m)**2\n",
    "fm_dk = fm_psd_fits.header['delta_k'] / u.m\n",
    "ng_k_radial, ng_psd_radial = psd.do_psd_radial(psd_data=ng_avg, delta_k=fm_dk)\n",
    "\n",
    "# Calculate glue average PSD from L-S\n",
    "n_step = 4\n",
    "glue_avg = np.zeros_like(mask)\n",
    "for nf in range(0, tot_fm): # choose optic\n",
    "    fm_num = nf+1\n",
    "    for ns in range(0, n_step):\n",
    "        mvls_name = 'lspsd_fm_{0}_n{1}_step{2}_glue.fits'.format(opt_parms['label'],nf+1,ns)\n",
    "        fm_psd_fits = fits.open(psd_folder+mvls_name)[0]\n",
    "        glue_avg = glue_avg + fm_psd_fits.data # unitless for now\n",
    "        fm_psd = fm_psd_fits.data * (u.nm*u.m)**2 # manually place in the data\n",
    "        fm_dk = fm_psd_fits.header['delta_k'] / u.m\n",
    "\n",
    "        # calculate the radial PSD data\n",
    "        k_radial, psd_radial = psd.do_psd_radial(psd_data=fm_psd, delta_k=fm_dk)\n",
    "\n",
    "        # initialize all the variables\n",
    "        if ns==0 and nf == 0:\n",
    "            glue_k_radial = np.zeros((tot_fm, tot_step, len(k_radial)))\n",
    "            glue_psd_radial = np.zeros_like(glue_k_radial)\n",
    "        \n",
    "        glue_k_radial[nf][ns] = np.asarray(k_radial)\n",
    "        glue_psd_radial[nf][ns] = np.asarray(psd_radial)\n",
    "\n",
    "# apply units\n",
    "glue_k_radial = glue_k_radial * fm_dk.unit\n",
    "glue_psd_radial = glue_psd_radial * fm_psd.unit\n",
    "\n",
    "# Calculate the average\n",
    "glue_avg = (glue_avg / (tot_fm*n_step)) * fm_psd.unit\n",
    "glue_avg_k_radial, glue_avg_psd_radial = psd.do_psd_radial(psd_data=glue_avg, delta_k=fm_dk)"
   ]
  },
  {
   "cell_type": "code",
   "execution_count": 6,
   "metadata": {},
   "outputs": [
    {
     "data": {
      "text/plain": [
       "<matplotlib.legend.Legend at 0x7fccc1978310>"
      ]
     },
     "execution_count": 6,
     "metadata": {},
     "output_type": "execute_result"
    },
    {
     "data": {
      "image/png": "[encoded data removed]",
      "text/plain": [
       "<Figure size 1000x600 with 1 Axes>"
      ]
     },
     "metadata": {
      "needs_background": "light"
     },
     "output_type": "display_data"
    }
   ],
   "source": [
    "plt.figure(figsize=[10,6], dpi=100)\n",
    "plt.loglog(glue_avg_k_radial, glue_avg_psd_radial, 'b', linewidth=3, \n",
    "           label='PSD avg (glue Zernikes)')\n",
    "plt.loglog(ng_k_radial, ng_psd_radial, 'r', linewidth=3, \n",
    "           label='PSD avg (no glue)')\n",
    "plt.xlabel('Spatial Frequency {0}'.format(fm_dk.unit))\n",
    "plt.ylabel('PSD ({0})'.format(fm_psd.unit))\n",
    "plt.title('MagAO-X PSD: Flat Mirror d={0} Glue Application Analysis'.format(opt_parms['label']))\n",
    "plt.legend(prop={'size':9})#,loc='center left', bbox_to_anchor=(1, 0.5))"
   ]
  },
  {
   "cell_type": "code",
   "execution_count": 7,
   "metadata": {},
   "outputs": [],
   "source": [
    "# save the glue average PSD\n",
    "hdr = fits.Header()\n",
    "hdr['psd_unit'] = (str(glue_avg.unit), 'Units for PSD data')\n",
    "hdr['wavelen'] = (opt_parms['wavelen'].value, \n",
    "                  'Wavelenth used in optical test [{0}]'.format(opt_parms['wavelen'].unit))\n",
    "hdr['diam_ca'] = (opt_parms['diam_ca'].value, \n",
    "                  'Physical diameter for clear aperture [{0}]'.format(opt_parms['diam_ca'].unit))\n",
    "hdr['diam_pix'] = (mask.shape[0],\n",
    "                  'Pixel diameter for clear aperture')\n",
    "hdr['clear_ap'] = (opt_parms['ca'],\n",
    "                  'Clear aperture [percent]')\n",
    "hdr['delta_k'] = (fm_dk.value,\n",
    "                  'Spatial frequency lateral resolution [{0}]'.format(fm_dk.unit))\n",
    "hdr['k_min'] = (1/opt_parms['diam_ca'].value,\n",
    "                'Minimum spatial frequency boundary [{0}]'.format(fm_dk.unit))\n",
    "hdr['k_max'] = (1/(2*opt_parms['diam_ca'].value/mask.shape[0]),\n",
    "                'Maximum spatial frequency boundary [{0}]'.format(fm_dk.unit))\n",
    "hdr['comment'] = 'If delta_k and k_min look like the same number, it is coincidence.'\n",
    "hdr['comment'] = 'Note: delta_k is calculated from Lomb-Scargle, not the FFT oversample.'\n",
    "\n",
    "psd_folder = 'flat_mirrors/mvls_psd/'\n",
    "avg_psd_filename = psd_folder + 'lspsd_fm_{0}_avg_glue.fits'.format(opt_parms['label'])\n",
    "fits.writeto(avg_psd_filename, glue_avg.value, hdr, overwrite=True)"
   ]
  },
  {
   "cell_type": "code",
   "execution_count": 8,
   "metadata": {},
   "outputs": [
    {
     "data": {
      "text/plain": [
       "PSD_UNIT= 'm2 nm2  '           / Units for PSD data                             \n",
       "WAVELEN =            6.328E-07 / Wavelenth used in optical test [m]             \n",
       "DIAM_CA =  0.01003151260504202 / Physical diameter for clear aperture [m]       \n",
       "DIAM_PIX=                  191 / Pixel diameter for clear aperture              \n",
       "CLEAR_AP=                   80 / Clear aperture [percent]                       \n",
       "DELTA_K =    99.68586387434563 / Spatial frequency lateral resolution [1 / m]   \n",
       "K_MIN   =    99.68586387434553 / Minimum spatial frequency boundary [1 / m]     \n",
       "K_MAX   =    9519.999999999998 / Maximum spatial frequency boundary [1 / m]     \n",
       "COMMENT If delta_k and k_min look like the same number, it is coincidence.      \n",
       "COMMENT Note: delta_k is calculated from Lomb-Scargle, not the FFT oversample.  "
      ]
     },
     "execution_count": 8,
     "metadata": {},
     "output_type": "execute_result"
    }
   ],
   "source": [
    "hdr"
   ]
  },
  {
   "cell_type": "code",
   "execution_count": null,
   "metadata": {},
   "outputs": [],
   "source": []
  },
  {
   "cell_type": "code",
   "execution_count": null,
   "metadata": {},
   "outputs": [],
   "source": []
  }
 ],
 "metadata": {
  "kernelspec": {
   "display_name": "Python 3",
   "language": "python",
   "name": "python3"
  },
  "language_info": {
   "codemirror_mode": {
    "name": "ipython",
    "version": 3
   },
   "file_extension": ".py",
   "mimetype": "text/x-python",
   "name": "python",
   "nbconvert_exporter": "python",
   "pygments_lexer": "ipython3",
   "version": "3.7.4"
  }
 },
 "nbformat": 4,
 "nbformat_minor": 4
}
