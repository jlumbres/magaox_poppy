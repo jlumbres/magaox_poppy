{
 "cells": [
  {
   "cell_type": "code",
   "execution_count": 1,
   "metadata": {},
   "outputs": [
    {
     "data": {
      "text/html": [
       "<style>.container { width:100% !important; }</style>"
      ],
      "text/plain": [
       "<IPython.core.display.HTML object>"
      ]
     },
     "metadata": {},
     "output_type": "display_data"
    },
    {
     "name": "stdout",
     "output_type": "stream",
     "text": [
      "Last date this notebook has been ran: 23/04/2020 11:51:15\n"
     ]
    }
   ],
   "source": [
    "%reload_ext autoreload\n",
    "%autoreload 2\n",
    "%matplotlib inline\n",
    "#load modules\n",
    "import numpy as np\n",
    "import matplotlib.pyplot as plt\n",
    "import matplotlib\n",
    "from astropy import units as u\n",
    "from astropy.io import fits\n",
    "from  matplotlib.colors import LogNorm\n",
    "from mpl_toolkits.axes_grid1 import make_axes_locatable\n",
    "import scipy.ndimage\n",
    "\n",
    "# draw the dark hole regions\n",
    "from skimage.draw import draw\n",
    "\n",
    "# import personal code\n",
    "import sys\n",
    "sys.path.insert(0, '/home/jhen/XWCL/code/MagAOX/functions')\n",
    "import datafiles as dfx\n",
    "\n",
    "from IPython.core.display import display, HTML\n",
    "display(HTML(\"<style>.container { width:100% !important; }</style>\"))\n",
    "\n",
    "from datetime import datetime\n",
    "date_ran = datetime.now()\n",
    "dr_str = date_ran.strftime(\"%d/%m/%Y %H:%M:%S\")\n",
    "print('Last date this notebook has been ran: {0}'.format(dr_str))"
   ]
  },
  {
   "cell_type": "code",
   "execution_count": 2,
   "metadata": {},
   "outputs": [
    {
     "name": "stdout",
     "output_type": "stream",
     "text": [
      "n0     | diameter: 40.328 mm | shape: (773, 773)\n",
      "n1     | diameter: 40.432 mm | shape: (775, 775)\n",
      "n2     | diameter: 40.432 mm | shape: (775, 775)\n",
      "n3     | diameter: 40.432 mm | shape: (775, 775)\n",
      "n4     | diameter: 40.432 mm | shape: (775, 775)\n",
      "n5_sn1 | diameter: 40.432 mm | shape: (775, 775)\n",
      "n5_sn2 | diameter: 40.432 mm | shape: (775, 775)\n",
      "n5_sn3 | diameter: 40.432 mm | shape: (775, 775)\n",
      "min side: 773\n"
     ]
    }
   ],
   "source": [
    "##### investigate .datx files\n",
    "coat_labels =  ('0', '1', '2', '3', '4', '5_sn1', '5_sn2', '5_sn3')\n",
    "mat_sizes = []\n",
    "\n",
    "# find the smallest size to calibrate all the optics to this size\n",
    "for cl in coat_labels:\n",
    "    fileloc = 'oaps/oap_coated/uncentered_data/oap{0}_mx_ca.datx'.format(cl)\n",
    "    surf, mask, sp = dfx.open_datx(datx_file_loc=fileloc)\n",
    "    surf, mask = dfx.mat_tight(surf,mask)\n",
    "    latres = sp['value'][sp['label'].index('latres')]\n",
    "    diam = (latres * mask.shape[0]*u.pix).to(u.mm)\n",
    "    print('n{0:5} | diameter: {1:.3f} | shape: {2}'.format(cl, diam, mask.shape))\n",
    "    mat_sizes.append(np.shape(mask))\n",
    "min_side = np.amin(mat_sizes) # pray this is reasonable\n",
    "print('min side: {0}'.format(min_side))"
   ]
  },
  {
   "cell_type": "code",
   "execution_count": 3,
   "metadata": {},
   "outputs": [
    {
     "name": "stdout",
     "output_type": "stream",
     "text": [
      "n0     | diameter: 40.067 mm | clear ap: 80.13% | shape: (768, 768)\n",
      "OAP0 has all good data\n",
      "OAP0 file has been written: oap0_centered_80CA\n",
      "\n",
      "n1     | diameter: 40.067 mm | clear ap: 80.13% | shape: (768, 768)\n",
      "OAP1 has all good data\n",
      "OAP1 file has been written: oap1_centered_80CA\n",
      "\n",
      "n2     | diameter: 40.067 mm | clear ap: 80.13% | shape: (768, 768)\n",
      "OAP2 has all good data\n",
      "OAP2 file has been written: oap2_centered_80CA\n",
      "\n",
      "n3     | diameter: 40.067 mm | clear ap: 80.13% | shape: (768, 768)\n",
      "OAP3 has all good data\n",
      "OAP3 file has been written: oap3_centered_80CA\n",
      "\n",
      "n4     | diameter: 40.067 mm | clear ap: 80.13% | shape: (768, 768)\n",
      "OAP4 has all good data\n",
      "OAP4 file has been written: oap4_centered_80CA\n",
      "\n",
      "n5_sn1 | diameter: 40.067 mm | clear ap: 80.13% | shape: (768, 768)\n",
      "OAP5_sn1 has bad data: 27 bad pixels present. Interpolating to fix.\n",
      "OAP5_sn1 file has been written: oap5_sn1_centered_80CA\n",
      "\n",
      "n5_sn2 | diameter: 40.067 mm | clear ap: 80.13% | shape: (768, 768)\n",
      "OAP5_sn2 has all good data\n",
      "OAP5_sn2 file has been written: oap5_sn2_centered_80CA\n",
      "\n",
      "n5_sn3 | diameter: 40.067 mm | clear ap: 80.13% | shape: (768, 768)\n",
      "OAP5_sn3 has bad data: 30 bad pixels present. Interpolating to fix.\n",
      "OAP5_sn3 file has been written: oap5_sn3_centered_80CA\n",
      "\n"
     ]
    }
   ],
   "source": [
    "# resize all the data to one shape, interpolate bad data present\n",
    "\n",
    "fits_folder = 'oaps/oap_coated/'\n",
    "undersize = 4 # undersize to whole matrix\n",
    "\n",
    "for cl in coat_labels:\n",
    "    # call in the file\n",
    "    fileloc = 'oaps/oap_coated/uncentered_data/oap{0}_mx_ca.datx'.format(cl)\n",
    "    surf, mask, sp = dfx.open_datx(datx_file_loc=fileloc, diam_ca100=50*u.mm)\n",
    "\n",
    "    # tighten up the matrix by removing empty rows and columns\n",
    "    surf, mask = dfx.mat_tight(surf, mask)\n",
    "    \n",
    "    # undersize the matrix equally\n",
    "    side_cut = mask.shape[0] - min_side + undersize\n",
    "    if (mask.shape[0] - side_cut) % 2 != 0: # odd new matrix size\n",
    "        side_cut += 1 # force it even\n",
    "    surf, mask = dfx.mat_reduce(data=surf, mask=mask, side_reduce=side_cut)\n",
    "    \n",
    "    latres = sp['value'][sp['label'].index('latres')]\n",
    "    diam = (latres * mask.shape[0]*u.pix).to(u.mm)\n",
    "    clear_ap = diam / sp['value'][sp['label'].index('diam_100')] * 100\n",
    "    print('n{0:5} | diameter: {1:.3f} | clear ap: {2:.2f}% | shape: {3}'.format(cl, diam, clear_ap, mask.shape))\n",
    "    \n",
    "    # check that there is nothing missing in the data\n",
    "    if cl == '0': # it's cheating but it's known that the 1st OAP has no bad data inside\n",
    "        ap_clear = mask\n",
    "        ap_coords = np.where(mask==1)\n",
    "    # set up fits header cards\n",
    "    sp['label'].append('INTERP') # add fits header comment\n",
    "    sp['comment'].append('True if interpolated bad surf pixels')\n",
    "    # investigate inside the good aperture\n",
    "    if (np.where(mask[ap_coords]==0))[0].size >0: # we got bad data\n",
    "        n_badpix = np.shape(np.where(mask[ap_coords]==0))[1]\n",
    "        print('OAP{0} has bad data: {1} bad pixels present. Interpolating to fix.'.format(cl, n_badpix))\n",
    "        sp['value'].append(True)\n",
    "        new_surf = dfx.fill_surface(surf, mask, ap_clear, ap_coords)\n",
    "    else:\n",
    "        print('OAP{0} has all good data'.format(cl))\n",
    "        sp['value'].append(False)\n",
    "        new_surf = surf*ap_clear\n",
    "        \n",
    "    # write to file\n",
    "    new_filename = 'oap{0}_centered_{1}CA'.format(cl, int(clear_ap))\n",
    "    dfx.write_fits(surface=surf, mask=ap_clear, surf_parms=sp, filename=fits_folder+new_filename)\n",
    "    print('OAP{0} file has been written: {1}\\n'.format(cl, new_filename))"
   ]
  },
  {
   "cell_type": "code",
   "execution_count": null,
   "metadata": {},
   "outputs": [],
   "source": []
  },
  {
   "cell_type": "code",
   "execution_count": null,
   "metadata": {},
   "outputs": [],
   "source": []
  },
  {
   "cell_type": "code",
   "execution_count": null,
   "metadata": {},
   "outputs": [],
   "source": []
  },
  {
   "cell_type": "code",
   "execution_count": null,
   "metadata": {},
   "outputs": [],
   "source": []
  }
 ],
 "metadata": {
  "kernelspec": {
   "display_name": "Python 3",
   "language": "python",
   "name": "python3"
  },
  "language_info": {
   "codemirror_mode": {
    "name": "ipython",
    "version": 3
   },
   "file_extension": ".py",
   "mimetype": "text/x-python",
   "name": "python",
   "nbconvert_exporter": "python",
   "pygments_lexer": "ipython3",
   "version": "3.7.4"
  }
 },
 "nbformat": 4,
 "nbformat_minor": 2
}
