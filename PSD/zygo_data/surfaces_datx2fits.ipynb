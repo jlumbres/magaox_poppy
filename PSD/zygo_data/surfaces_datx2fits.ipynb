{
 "cells": [
  {
   "cell_type": "code",
   "execution_count": 1,
   "metadata": {},
   "outputs": [
    {
     "data": {
      "text/html": [
       "<style>.container { width:100% !important; }</style>"
      ],
      "text/plain": [
       "<IPython.core.display.HTML object>"
      ]
     },
     "metadata": {},
     "output_type": "display_data"
    }
   ],
   "source": [
    "%reload_ext autoreload\n",
    "%autoreload 2\n",
    "%matplotlib inline\n",
    "#load modules\n",
    "import numpy as np\n",
    "import matplotlib.pyplot as plt\n",
    "import matplotlib\n",
    "from astropy import units as u\n",
    "from astropy.io import fits\n",
    "from  matplotlib.colors import LogNorm\n",
    "from mpl_toolkits.axes_grid1 import make_axes_locatable\n",
    "import scipy.ndimage\n",
    "\n",
    "# draw the dark hole regions\n",
    "from skimage.draw import draw\n",
    "\n",
    "# PSD code\n",
    "from scipy import signal\n",
    "from scipy import interpolate\n",
    "from scipy.special import factorial\n",
    "import h5py\n",
    "import copy\n",
    "\n",
    "# import personal code\n",
    "import sys\n",
    "sys.path.insert(0, '/home/jhen/XWCL/code/MagAOX/functions')\n",
    "#import magaoxFunctions as mf\n",
    "import psd_functions as psd\n",
    "import zernike as zern\n",
    "import datafiles as dfx\n",
    "\n",
    "from IPython.core.display import display, HTML\n",
    "display(HTML(\"<style>.container { width:100% !important; }</style>\"))\n",
    "#print('This notebook is not stale yet!')"
   ]
  },
  {
   "cell_type": "code",
   "execution_count": 47,
   "metadata": {},
   "outputs": [
    {
     "name": "stdout",
     "output_type": "stream",
     "text": [
      "n0 diameter: 40.328 mm\n",
      "n1 diameter: 40.432 mm\n",
      "n2 diameter: 40.432 mm\n",
      "n3 diameter: 40.432 mm\n",
      "n4 diameter: 40.432 mm\n",
      "n5_sn1 diameter: 40.432 mm\n",
      "n5_sn2 diameter: 40.432 mm\n",
      "n5_sn3 diameter: 40.432 mm\n"
     ]
    }
   ],
   "source": [
    "##### investigate .datx files\n",
    "coat_labels =  ('0', '1', '2', '3', '4', '5_sn1', '5_sn2', '5_sn3')\n",
    "mat_sizes = []\n",
    "\n",
    "# find the smallest size to calibrate all the optics to this size\n",
    "for cl in coat_labels:\n",
    "    fileloc = 'oaps/oap_coated/uncentered_data/oap{0}_mx_ca.datx'.format(cl)\n",
    "    surf, mask, sp = dfx.open_datx(datx_file_loc=fileloc)\n",
    "    print('n{0} diameter: {1:.3f}'.format(cl, sp['diam_mm']))\n",
    "    surf, mask = dfx.mat_tight(surf,mask)\n",
    "    mat_sizes.append(np.shape(mask))\n",
    "min_side = np.amin(mat_sizes) # pray this is reasonable\n",
    "if min_side % 2 != 0: # if not even\n",
    "    min_side -= 1 # decrease by 1 to make even"
   ]
  },
  {
   "cell_type": "code",
   "execution_count": 51,
   "metadata": {
    "scrolled": true
   },
   "outputs": [
    {
     "data": {
      "text/latex": [
       "$0.80551281 \\; \\mathrm{}$"
      ],
      "text/plain": [
       "<Quantity 0.80551281>"
      ]
     },
     "execution_count": 51,
     "metadata": {},
     "output_type": "execute_result"
    }
   ],
   "source": [
    "(min_side * sp['lateral_res']*u.pix)/(0.05*u.m)"
   ]
  },
  {
   "cell_type": "code",
   "execution_count": 46,
   "metadata": {},
   "outputs": [
    {
     "data": {
      "text/plain": [
       "{'wavelength': <Quantity 6.32799981e-07 m>,\n",
       " 'scale_factor': 0.5,\n",
       " 'units': 'micron',\n",
       " 'lateral_res': <Quantity 5.21705188e-05 m / pix>,\n",
       " 'diam_pix': <Quantity 775. pix>,\n",
       " 'diam_mm': <Quantity 40.43215204 mm>}"
      ]
     },
     "execution_count": 46,
     "metadata": {},
     "output_type": "execute_result"
    }
   ],
   "source": [
    "sp"
   ]
  },
  {
   "cell_type": "code",
   "execution_count": 44,
   "metadata": {},
   "outputs": [
    {
     "data": {
      "text/plain": [
       "772"
      ]
     },
     "execution_count": 44,
     "metadata": {},
     "output_type": "execute_result"
    }
   ],
   "source": [
    "# resize all the data\n",
    "for cl in coat_labels:\n",
    "    # call in the file\n",
    "    fileloc = 'oaps/oap_coated/uncentered_data/oap{0}_mx_ca.datx'.format(cl)\n",
    "    surf, mask, sp = dfx.open_datx(datx_file_loc=fileloc)\n",
    "\n",
    "    # tighten up the matrix by removing empty rows and columns\n",
    "    surf, mask = dfx.mat_tight(surf, mask)\n",
    "    \n",
    "    # resize the matrix for it to be same size\n",
    "    surf, mask = dfx.mat_reduce(data=surf, mask=mask, side_reduce=(np.int(np.shape(mask)[0] - min_side)))\n",
    "\n",
    "    # check that the matrix is even (required for the PSD code)\n",
    "    if np.shape(surf)[0] % 2 != 0: # odd matrix\n",
    "        surf, mask = dfx.mat_reduce(data=surf, mask=mask, side_reduce=1)\n",
    "\n",
    "    # apply the changes onto the dictionary\n",
    "    sp['opt_diam'] = 50 * u.mm\n",
    "    sp['diam_pix'] = np.shape(mask)[0]*u.pix\n",
    "    sp['diam_mm'] = (sp['diam_pix'] * sp['lateral_res']).to(u.mm)\n",
    "    sp['ca'] = (sp['diam_mm'] / sp['opt_diam']) * 100\n",
    "\n",
    "    # save the raw file\n",
    "    raw_file = 'oaps/oap_coated/flat_2in_n{0}_step{1}_raw'.format(fm_num, ns)\n",
    "    #dfx.write_fits(surface=surf, mask=mask, surf_parms=sp, filename=raw_file, save_mask=False)\n",
    "\n",
    "    # change the surface back into units of OPD\n",
    "    surf_fix = surf_fix_phase * k_num\n",
    "    \n",
    "    # write data to a matrix\n",
    "    if ns==0: # initialize first time\n",
    "        data_set = np.zeros((tot_step, np.shape(mask)[0], np.shape(mask)[0])) # initialize first\n",
    "    data_set[ns, :, :] = surf_fix.value\n",
    "\n",
    "    # write all this to a FITS file\n",
    "    fits_file = fits_folder+'flat_2in_n{0}_step{1}'.format(fm_num, ns)\n",
    "    #dfx.write_fits(surface=surf_fix, mask=mask, surf_parms=sp, filename=fits_file)"
   ]
  },
  {
   "cell_type": "code",
   "execution_count": 30,
   "metadata": {},
   "outputs": [
    {
     "name": "stdout",
     "output_type": "stream",
     "text": [
      "(775, 775)\n"
     ]
    },
    {
     "data": {
      "text/plain": [
       "<matplotlib.image.AxesImage at 0x7f602375d590>"
      ]
     },
     "execution_count": 30,
     "metadata": {},
     "output_type": "execute_result"
    },
    {
     "data": {
      "image/png": "[encoded data removed]",
      "text/plain": [
       "<Figure size 432x288 with 1 Axes>"
      ]
     },
     "metadata": {
      "needs_background": "light"
     },
     "output_type": "display_data"
    }
   ],
   "source": [
    "surf, mask = dfx.mat_tight(surf, mask)\n",
    "print(np.shape(mask))\n",
    "plt.imshow(mask)"
   ]
  },
  {
   "cell_type": "code",
   "execution_count": null,
   "metadata": {},
   "outputs": [],
   "source": []
  },
  {
   "cell_type": "code",
   "execution_count": null,
   "metadata": {},
   "outputs": [],
   "source": []
  },
  {
   "cell_type": "code",
   "execution_count": null,
   "metadata": {},
   "outputs": [],
   "source": []
  },
  {
   "cell_type": "code",
   "execution_count": null,
   "metadata": {},
   "outputs": [],
   "source": []
  }
 ],
 "metadata": {
  "kernelspec": {
   "display_name": "Python 3",
   "language": "python",
   "name": "python3"
  },
  "language_info": {
   "codemirror_mode": {
    "name": "ipython",
    "version": 3
   },
   "file_extension": ".py",
   "mimetype": "text/x-python",
   "name": "python",
   "nbconvert_exporter": "python",
   "pygments_lexer": "ipython3",
   "version": "3.7.4"
  }
 },
 "nbformat": 4,
 "nbformat_minor": 2
}
