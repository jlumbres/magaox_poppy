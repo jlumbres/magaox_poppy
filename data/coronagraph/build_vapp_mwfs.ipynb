{
 "cells": [
  {
   "cell_type": "code",
   "execution_count": 1,
   "metadata": {},
   "outputs": [
    {
     "name": "stdout",
     "output_type": "stream",
     "text": [
      "Last date this notebook was ran: 2020-08-04\n"
     ]
    },
    {
     "data": {
      "text/html": [
       "<style>.container { width:100% !important; }</style>"
      ],
      "text/plain": [
       "<IPython.core.display.HTML object>"
      ]
     },
     "metadata": {},
     "output_type": "display_data"
    }
   ],
   "source": [
    "%reload_ext autoreload\n",
    "%autoreload 2\n",
    "%matplotlib inline\n",
    "import numpy as np\n",
    "import matplotlib.pyplot as plt\n",
    "import matplotlib\n",
    "from astropy import units as u\n",
    "from astropy.io import fits\n",
    "#silence DEBUG and WARNINGs\n",
    "import logging\n",
    "logging.getLogger('poppy').setLevel(logging.ERROR)\n",
    "# MagAO-X function definitions\n",
    "from model_kit import magaoxFunctions as mf\n",
    "# for writing files\n",
    "from datetime import date\n",
    "print('Last date this notebook was ran: {0}'.format(date.today()))\n",
    "\n",
    "from IPython.core.display import display, HTML\n",
    "display(HTML(\"<style>.container { width:100% !important; }</style>\"))"
   ]
  },
  {
   "cell_type": "code",
   "execution_count": 2,
   "metadata": {},
   "outputs": [],
   "source": [
    "# load the information\n",
    "fr_parm = {'wavelength': 0.9e-6 * u.m,\n",
    "           'npix': 512, # sample size\n",
    "           'beam_ratio': 0.25, # oversample\n",
    "           'surf_off': True} \n",
    "\n",
    "mf.build_vapp_mwfs(fr_parm=fr_parm)"
   ]
  },
  {
   "cell_type": "code",
   "execution_count": 3,
   "metadata": {},
   "outputs": [
    {
     "name": "stdout",
     "output_type": "stream",
     "text": [
      "CPU times: user 36.2 s, sys: 9.98 s, total: 46.2 s\n",
      "Wall time: 17.2 s\n"
     ]
    }
   ],
   "source": [
    "%%time\n",
    "# load the information\n",
    "fr_parm = {'wavelength': 656.3e-9 * u.m,\n",
    "           'npix': 512, # sample size\n",
    "           'beam_ratio': 0.25, # oversample\n",
    "           'surf_off': True}\n",
    "\n",
    "mf.build_vapp_mwfs(fr_parm=fr_parm)"
   ]
  },
  {
   "cell_type": "code",
   "execution_count": null,
   "metadata": {},
   "outputs": [],
   "source": []
  },
  {
   "cell_type": "code",
   "execution_count": null,
   "metadata": {},
   "outputs": [],
   "source": []
  },
  {
   "cell_type": "code",
   "execution_count": 2,
   "metadata": {},
   "outputs": [],
   "source": [
    "# reference for old version that used the csv file's vAPP radius value\n",
    "# this was scrapped in favor of more accurate version calculating pixelscale\n",
    "\n",
    "def build_vapp_mwfs(fr_parm):\n",
    "    wavelen = np.round(fr_parm['wavelength'].to(u.nm).value).astype(int)\n",
    "    br = int(1/fr_parm['beam_ratio'])\n",
    "    parm_name = '{0:3}_{1:1}x_{2:3}nm'.format(fr_parm['npix'], br, wavelen)\n",
    "\n",
    "    # load the CSV prescription values\n",
    "    home_dir = '/home/jhen/XWCL/code/MagAOX/' # change for exao0\n",
    "    data_dir = home_dir + 'data/'\n",
    "    rx_loc = 'rxCSV/rx_magaox_NCPDM_sci_{0}.csv'.format(parm_name)\n",
    "    rx_sys = mf.makeRxCSV(data_dir+rx_loc)\n",
    "\n",
    "    # acquiring csv numerical values for specifically named optics\n",
    "    for t_optic, test_opt in enumerate(rx_sys):\n",
    "        if test_opt['Name'] == 'vAPP-trans':\n",
    "            vapp_diam = test_opt['Radius_m']*2*u.m\n",
    "\n",
    "    # vAPP file information\n",
    "    vAPP_pixelscl = vapp_diam.value/fr_parm['npix'] # direct from csv data file\n",
    "    vAPP_folder = data_dir+'coronagraph/'\n",
    "    vAPP_trans_filename = 'vAPP_trans_2PSF_{0}'.format(parm_name)\n",
    "    vAPP_posOPD_filename = 'vAPP_opd_2PSF_{0}_posPhase'.format(parm_name)\n",
    "    vAPP_negOPD_filename = 'vAPP_opd_2PSF_{0}_negPhase'.format(parm_name)\n",
    "\n",
    "    # Call in vAPP data\n",
    "    vapp_phase_grating_data = fits.open(vAPP_folder+'MagAOX_vAPP_512x512.fits')[0].data\n",
    "    vapp_aperture_data = fits.open(vAPP_folder+'MagAOX_pupil_512x512.fits')[0].data\n",
    "\n",
    "    # Calculate the transmissive mask\n",
    "    mf.writeTRANSfile(vapp_aperture_data, vAPP_pixelscl, vAPP_folder + vAPP_trans_filename + '.fits')\n",
    "\n",
    "    # Calculate the positive phase OPD and write the file\n",
    "    vapp_2psf_opd_posPhase = 1*(fr_parm['wavelength'].value/(2*np.pi))*vapp_phase_grating_data*vapp_aperture_data\n",
    "    mf.writeOPDfile(vapp_2psf_opd_posPhase, vAPP_pixelscl, vAPP_folder + vAPP_posOPD_filename + '.fits')\n",
    "\n",
    "    # Calculate the negative phase OPD and write the file\n",
    "    vapp_2psf_opd_negPhase = -1*vapp_2psf_opd_posPhase\n",
    "    mf.writeOPDfile(vapp_2psf_opd_negPhase, vAPP_pixelscl, vAPP_folder + vAPP_negOPD_filename + '.fits')"
   ]
  },
  {
   "cell_type": "code",
   "execution_count": null,
   "metadata": {},
   "outputs": [],
   "source": []
  },
  {
   "cell_type": "code",
   "execution_count": null,
   "metadata": {},
   "outputs": [],
   "source": []
  }
 ],
 "metadata": {
  "kernelspec": {
   "display_name": "Python 3",
   "language": "python",
   "name": "python3"
  },
  "language_info": {
   "codemirror_mode": {
    "name": "ipython",
    "version": 3
   },
   "file_extension": ".py",
   "mimetype": "text/x-python",
   "name": "python",
   "nbconvert_exporter": "python",
   "pygments_lexer": "ipython3",
   "version": "3.7.4"
  }
 },
 "nbformat": 4,
 "nbformat_minor": 4
}
