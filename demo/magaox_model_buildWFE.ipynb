{
 "cells": [
  {
   "cell_type": "markdown",
   "metadata": {},
   "source": [
    "## Demo Notebook: How to calculate your own randomized PSD-based WFE\n",
    "This notebook will show you how to calculate the full uncropped PSD WFE pre-calculated for the n0s0 randomizer seed set and saved somewhere you can access them.\n",
    "\n",
    "**CAUTION**: This notebook will consume a lot of memory (5-6 GB), so don't run this notebook unless necessary. The saved uncropped PSD WFEs take up less than 1 GB of space.\n",
    "\n",
    "**CONTEXT**: The work I did for MagAO-X in the Fresnel model paper uses an older, unpublished version of the PowerSpectrumWFE code in the POPPY github repo. The only major change is how the surface rms is scaled. It's minor, but there's a nonzero possibility the official version will slightly scale the OPD WFE different enough to not produce the same results. The WFEs are pretty large files, so it's a bit easier for you to generate your own instead of downloading them.\n",
    "\n",
    "**BEFORE YOU START**: Before you run this notebook, you need to go into your poppy code and in the `poppy/wfe.py` file, copy+paste the `PowerSpectrumWFE_old` class from the `data/PSD_WFE/PowerSpectrumWFE_old.py` file, then save. This will let you calculate the OPDs based on the original PSD WFE code."
   ]
  },
  {
   "cell_type": "code",
   "execution_count": 1,
   "metadata": {},
   "outputs": [],
   "source": [
    "import numpy as np\n",
    "from astropy import units as u\n",
    "from astropy.io import fits\n",
    "import copy\n",
    "\n",
    "import matplotlib.pyplot as plt\n",
    "from matplotlib.colors import LogNorm, Normalize\n",
    "import matplotlib\n",
    "\n",
    "# need to look up which version\n",
    "import pickle\n",
    "\n",
    "# the only thing you need from my code\n",
    "from model_kit import magaoxFunctions as mf"
   ]
  },
  {
   "cell_type": "markdown",
   "metadata": {},
   "source": [
    "Run a version of POPPY no newer than 0.9.2 or after March 1, 2021. The newer version of POPPY has a sign change for OPD to match with ZEMAX. To match the modeling, use a version older than that."
   ]
  },
  {
   "cell_type": "code",
   "execution_count": 2,
   "metadata": {},
   "outputs": [
    {
     "data": {
      "text/plain": [
       "'0.9.2.dev11+g1887dd5'"
      ]
     },
     "execution_count": 2,
     "metadata": {},
     "output_type": "execute_result"
    }
   ],
   "source": [
    "import poppy\n",
    "poppy.__version__"
   ]
  },
  {
   "cell_type": "markdown",
   "metadata": {},
   "source": [
    "Load up all the parameters and file locations"
   ]
  },
  {
   "cell_type": "code",
   "execution_count": 3,
   "metadata": {},
   "outputs": [],
   "source": [
    "# declare MagAO-X variables\n",
    "fr_parm = {'wavelength': 656e-9 * u.m,\n",
    "           'npix': 538, # sample size\n",
    "           'beam_ratio': 0.25, # oversample\n",
    "           'leak_mult': 0.01, # vAPP leakage multiplier\n",
    "           'bump': True, # T/F to use the MagAO-X pupil with tweeter bump masked\n",
    "           'wfe_data': 'allopd'} # other options: common\n",
    "\n",
    "# set up prescription details, this is important for labeling later.\n",
    "wavelen_str = str(np.round(fr_parm['wavelength'].to(u.nm).value).astype(int))\n",
    "br = int(1/fr_parm['beam_ratio'])\n",
    "parm_name = '{0:3}_{1:1}x_{2}nm'.format(fr_parm['npix'], br, wavelen_str)\n",
    "\n",
    "# set up file locations\n",
    "home_dir = '/home/jhen/XWCL/code/MagAOX/' # change for your MagAO-X Fresnel directory\n",
    "data_dir = home_dir + 'data/'\n",
    "rx_dir = data_dir + 'rxCSV/'"
   ]
  },
  {
   "cell_type": "markdown",
   "metadata": {},
   "source": [
    "Calculate all the wavefronts at each optic using the aberration-free rxCSV file. \n",
    "\n",
    "WARNING: This will consume 5-6 GB of your memory, check that you have enough!"
   ]
  },
  {
   "cell_type": "code",
   "execution_count": 4,
   "metadata": {},
   "outputs": [
    {
     "name": "stdout",
     "output_type": "stream",
     "text": [
      "CPU times: user 1min 4s, sys: 13.4 s, total: 1min 17s\n",
      "Wall time: 30.9 s\n"
     ]
    }
   ],
   "source": [
    "%%time\n",
    "# load the aberration-free prescription file to generate wavefronts for WFE calculation.\n",
    "dl_loc = rx_dir+'rx_magaox_NCPDM_sci_{0}_noap_nowfe.csv'.format(parm_name)\n",
    "dl_sys = mf.makeRxCSV(dl_loc, print_names=False)\n",
    "\n",
    "# This builds the entire FresnelOpticalSystem\n",
    "magaox_dl = mf.csvFresnel(rx_csv = dl_sys,\n",
    "                       samp = fr_parm['npix'],\n",
    "                       oversamp = fr_parm['beam_ratio'],\n",
    "                       home_folder = home_dir, # this is critical for navigating folders\n",
    "                       break_plane = 'F69Sci', # you can chnage this to any other plane\n",
    "                       bump = fr_parm['bump']) # properly builds the pupil with bump mask\n",
    "\n",
    "# This calculates all the wavefronts and holds it in memory.\n",
    "psf_dl, wf_dl = magaox_dl.calc_psf(wavelength=fr_parm['wavelength'].value, \n",
    "                            return_intermediates=True)"
   ]
  },
  {
   "cell_type": "markdown",
   "metadata": {},
   "source": [
    "Preset and load all the necessary variables and data for calculating the PSD-based WFE."
   ]
  },
  {
   "cell_type": "code",
   "execution_count": 5,
   "metadata": {},
   "outputs": [],
   "source": [
    "# Presets\n",
    "apply_reflection = True\n",
    "\n",
    "# Set the output directory for the OPD WFE.\n",
    "n_set = 0\n",
    "s_set = 0\n",
    "psd_wfe_dir = data_dir + 'PSD_WFE/n{0}/s{0}/'.format(n_set, s_set) # change to how you want.\n",
    "\n",
    "# Initialize PSD parameters\n",
    "import pickle # this needs to get changed to all data being in FITS format\n",
    "psd_dir = home_dir + 'PSD/model_parameters/'\n",
    "psd_label = ['pdr', 'm2m3', 'oap', 'fm1in', 'fm2in', \n",
    "             'fm19mm_glue', 'fm1in_glue', 'fm0p5in_glue']\n",
    "psd_dict = {}\n",
    "for n in range(0, len(psd_label)):\n",
    "    psd_filename = psd_dir + 'psd_parms_{0}.pickle'.format(psd_label[n])\n",
    "    with open(psd_filename, 'rb') as psd_data_file:\n",
    "        psd_data = pickle.load(psd_data_file)\n",
    "    psd_dict.update(psd_data)\n",
    "    \n",
    "# Insert seed randomizer values\n",
    "seed_set = np.load(psd_dir+'seed_set_10_n{0}.npy'.format(n_set))\n",
    "\n",
    "# choose the optics which require a OPD WFE. These are the Optical Element Numbers in the rxCSV file.\n",
    "j_set = [2, 3, 4, 5, 6, 7, 9, 10, 12, 13, 15, 17, 18, 19, 21, 25, 26, 27, 29, 31, 32, 33]\n",
    "\n",
    "# load the rxCSV file that indicates what PSD models to use.\n",
    "rx_opd_loc = rx_dir+'rx_magaox_NCPDM_sci_{0}_noap_{1}.csv'.format(parm_name, fr_parm['wfe_data']) # specific rx file\n",
    "rx_sys_opd = mf.makeRxCSV(rx_opd_loc, print_names=False)"
   ]
  },
  {
   "cell_type": "markdown",
   "metadata": {},
   "source": [
    "This next part will only work if you've copy+pasted the`PowerSpectrumWFE_old` class from the `data/PSD_WFE/PowerSpectrumWFE_old.py` file into POPPY's `poppy/wfe.py` file. This will let you calculate the OPDs based on the original PSD WFE code."
   ]
  },
  {
   "cell_type": "code",
   "execution_count": 7,
   "metadata": {},
   "outputs": [
    {
     "name": "stdout",
     "output_type": "stream",
     "text": [
      "PSD WFE saved for M-2 complete\n",
      "PSD WFE saved for M-3 complete\n",
      "PSD WFE saved for F-1 complete\n",
      "PSD WFE saved for K-1 complete\n",
      "PSD WFE saved for K-2 complete\n",
      "PSD WFE saved for K-3 complete\n",
      "PSD WFE saved for F-2 complete\n",
      "PSD WFE saved for OAP-0 complete\n",
      "PSD WFE saved for OAP-1 complete\n",
      "PSD WFE saved for F-3 complete\n",
      "PSD WFE saved for OAP-2 complete\n",
      "PSD WFE saved for OAP-3 complete\n",
      "PSD WFE saved for F-4 complete\n",
      "PSD WFE saved for F-5 complete\n",
      "PSD WFE saved for OAP-4 complete\n",
      "PSD WFE saved for F-6 complete\n",
      "PSD WFE saved for OAP-5-1 complete\n",
      "PSD WFE saved for F-7 complete\n",
      "PSD WFE saved for OAP-5-2 complete\n",
      "PSD WFE saved for F-11 complete\n",
      "PSD WFE saved for OAP-5-3 complete\n",
      "PSD WFE saved for F-12 complete\n"
     ]
    }
   ],
   "source": [
    "# chug through it\n",
    "for ind in range(0, len(j_set)):\n",
    "    j = j_set[ind]\n",
    "    \n",
    "    seed_val = seed_set[s_set][j]\n",
    "    \n",
    "    rx_opt_data = rx_sys_opd[j]\n",
    "    psd_type = rx_opt_data['surf_PSD_filename']\n",
    "    psd_parameters = psd_dict[psd_type]\n",
    "    psd_weight = psd_dict[psd_type+'_weight']\n",
    "    \n",
    "    n_wf = wf_dl[j+1] # the 0th wf_dl is the aperture required by POPPY and not in the rxCSV.\n",
    "    \n",
    "    wfe_filename = 'wfe_psd_j{0}'.format(j)\n",
    "    \n",
    "    mf.write_psdwfe(wavefront=n_wf, \n",
    "                    rx_opt_data = rx_opt_data, \n",
    "                    seed_val = seed_val,\n",
    "                    psd_parameters = psd_parameters, \n",
    "                    psd_weight = psd_weight, \n",
    "                    apply_reflection = apply_reflection,\n",
    "                    wfe_folder = psd_wfe_dir,\n",
    "                    wfe_filename = wfe_filename)\n",
    "    \n",
    "    print('PSD WFE saved for {0} complete'.format(rx_opt_data['Name']))"
   ]
  },
  {
   "cell_type": "code",
   "execution_count": null,
   "metadata": {},
   "outputs": [],
   "source": []
  },
  {
   "cell_type": "code",
   "execution_count": null,
   "metadata": {},
   "outputs": [],
   "source": []
  }
 ],
 "metadata": {
  "kernelspec": {
   "display_name": "Python 3",
   "language": "python",
   "name": "python3"
  },
  "language_info": {
   "codemirror_mode": {
    "name": "ipython",
    "version": 3
   },
   "file_extension": ".py",
   "mimetype": "text/x-python",
   "name": "python",
   "nbconvert_exporter": "python",
   "pygments_lexer": "ipython3",
   "version": "3.7.4"
  }
 },
 "nbformat": 4,
 "nbformat_minor": 4
}
