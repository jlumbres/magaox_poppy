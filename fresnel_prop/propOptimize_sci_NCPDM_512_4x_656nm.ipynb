{
 "cells": [
  {
   "cell_type": "markdown",
   "metadata": {},
   "source": [
    "# POPPY Sim: MagAO-X focal plane propagation optimization - Ver: Science/NCP DM path\n",
    "## Notes: \n",
    "- This is version 11.1 of the MagAO-X Zemax file, with NCP DM path information from Solidworks mode.\n",
    "- This notebook focuses on the F/# focal plane generation to see if any distance corrections are needed. No aberration required.\n",
    "- This notebook optimized focal plane distance correction for H-alpha wavelength, 512 sampling, and 4x oversample."
   ]
  },
  {
   "cell_type": "code",
   "execution_count": 1,
   "metadata": {},
   "outputs": [
    {
     "name": "stdout",
     "output_type": "stream",
     "text": [
      "POPPY Version: 0.9.2.dev11+g1887dd5\n"
     ]
    }
   ],
   "source": [
    "%matplotlib inline\n",
    "#load modules\n",
    "import numpy as np\n",
    "import matplotlib.pyplot as plt\n",
    "import matplotlib\n",
    "from astropy import units as u\n",
    "from astropy.io import fits\n",
    "from  matplotlib.colors import LogNorm\n",
    "from model_kit import magaoxFunctions as mf\n",
    "#POPPY\n",
    "import poppy\n",
    "from poppy.poppy_core import PlaneType\n",
    "print(\"POPPY Version: \"+poppy.__version__)"
   ]
  },
  {
   "cell_type": "markdown",
   "metadata": {},
   "source": [
    "## Initiate the optical elements and variables\n",
    "- The values for the Magellan telescope and MagAO-X are pulled from Oli Durney's Zemax file, version 11.1. The NCP DM path between OAP-4 and OAP-5-1 were pulled from the solidworks model designed by Cork. All MagAO-X elements (after F/11 focal plane) have their distances pulled from the Zemax file's Merit Function Editor (using RAG command).\n",
    "\n",
    "### Optical elements not implemented currently:\n",
    "- ADC1 and 2\n",
    "- Lyot stop"
   ]
  },
  {
   "cell_type": "code",
   "execution_count": 19,
   "metadata": {},
   "outputs": [
    {
     "data": {
      "text/latex": [
       "$14.002332 \\; \\mathrm{m}$"
      ],
      "text/plain": [
       "<Quantity 14.00233207 m>"
      ]
     },
     "execution_count": 19,
     "metadata": {},
     "output_type": "execute_result"
    }
   ],
   "source": [
    "d_m2_m3 + d_m3_wfsdichroic + d_wfsdichroic_peri1 + d_peri1_k1 + d_k1_k2 + d_k2_k3 + d_k3_f11fp"
   ]
  },
  {
   "cell_type": "code",
   "execution_count": 16,
   "metadata": {},
   "outputs": [],
   "source": [
    "testWavelength = 656.3e-9 * u.m # H-alpha\n",
    "samp = 512  # original version at 512\n",
    "oversamp = 0.25 # 4x\n",
    "\n",
    "# physical radius values\n",
    "M1_radius = 3.25 * u.m # This is the correct value to use.\n",
    "M2_radius = 0.6695 * u.m # This is the correct value to use.\n",
    "M3_radius = 0.439879 * u.m # Using largest value from various Zemax files\n",
    "oap_radius = 0.0254 * u.m # 2 inch diameter OAP\n",
    "flat_2in_radius = 0.025 * u.m # 50mm diameter\n",
    "flat_1in_radius = 0.0125 * u.m # 25mm diameter\n",
    "flat_0p5in_radius = 0.00625 * u.m # 12.5mm diameter\n",
    "flat_19mm_radius = 0.0095 * u.m # 19mm diameter\n",
    "dm_radius = 0.025 * u.m # 50mm diameter currently, subject to change if need to be larger\n",
    "\n",
    "# Saved F/# correction values, calculated and copied from a previous run.\n",
    "f11_delta = 2.6068628201869615e-05 * u.m\n",
    "f16_delta = 0.00014377668927423315 * u.m\n",
    "f57_delta = -7.080525876546062e-05 * u.m \n",
    "f69_delta = -4.621933338810891e-05 * u.m\n",
    "f69sci_delta = 1.2789797395384994e-05 * u.m\n",
    "\n",
    "# focal lengths for Magellan Telescope\n",
    "fl_M1 = 8.12765 * u.m # Zemax definition\n",
    "fl_M2 = 1.43141 * u.m # Zemax definition\n",
    "\n",
    "# Focal lengths of OAPs\n",
    "fl_oap0 = 0.143701 *u.m #0.14355 * u.m\n",
    "fl_oap1 = 0.21088 * u.m\n",
    "fl_oap2 = 0.30380 * u.m\n",
    "fl_oap3 = 1.07160 * u.m\n",
    "fl_oap4 = 0.51300 * u.m\n",
    "fl_oap51 = 0.62100 * u.m\n",
    "fl_oap52 = 0.62100 * u.m\n",
    "fl_oap53 = 0.62100 * u.m\n",
    "\n",
    "# propagation distances based on Zemax\n",
    "# All values before F/11 is not present in Zemax MFE nor solo Magellan Zemax file, so going by distances listed.\n",
    "d_m1_m2 = 9.72205 * u.m\n",
    "d_m2_m3 = 9.02279 * u.m\n",
    "d_m3_wfsdichroic = 4.849516 * u.m\n",
    "d_wfsdichroic_peri1 = 0.040 * u.m\n",
    "d_peri1_k1 = 0.020 * u.m\n",
    "d_k1_k2 = 0.025 * u.m\n",
    "d_k2_k3 = 0.025 * u.m\n",
    "d_k3_f11fp = 0.020 * u.m + f11_delta \n",
    "\n",
    "# Inputted from Zemax MFE, all RAG values\n",
    "d_f11fp_peri2 = 0.033204 * u.m\n",
    "d_peri2_oap0 = 0.110497 * u.m \n",
    "d_oap0_woofer = 0.143701 * u.m #0.144693 * u.m\n",
    "d_woofer_oap1 = 0.210726 * u.m\n",
    "d_oap1_fold1 = 0.069174 * u.m\n",
    "d_fold1_f16fp = 0.141562 * u.m + f16_delta\n",
    "d_f16fp_oap2 = 0.303808 * u.m\n",
    "d_oap2_tweeter = 0.303808 * u.m\n",
    "d_tweeter_oap3 = 1.071599 * u.m # adds through front and back ADC\n",
    "d_oap3_flat4 = 0.412515 *u.m\n",
    "d_flat4_flat5 = 0.5737 * u.m\n",
    "d_flat5_f57fp = 0.085449 * u.m + f57_delta\n",
    "d_f57fp_oap4 = 0.513026 * u.m\n",
    "\n",
    "# NCP DM path\n",
    "d_oap4_NCPDM = 0.47666 * u.m\n",
    "d_NCPDM_vapp = 0.03634 * u.m\n",
    "d_vapp_flat6 = 0.19427 * u.m\n",
    "d_flat6_oap51 = 0.42673 * u.m\n",
    "\n",
    "# Rest of the optics train\n",
    "d_oap51_fold2 = 0.471013 * u.m\n",
    "d_fold2_f69fp = 0.150008 * u.m + f69_delta\n",
    "d_f69fp_oap52 = 0.620969 * u.m\n",
    "d_oap52_lyot = 0.621031 * u.m\n",
    "d_lyot_fold3 = 0.231596 * u.m\n",
    "d_fold3_oap53 = 0.389425 * u.m\n",
    "d_oap53_fold4 = 0.401103 * u.m\n",
    "d_fold4_f69sci = 0.219859 * u.m + f69sci_delta\n",
    "\n",
    "# Primary and Secondary mirrors\n",
    "M1 = poppy.QuadraticLens(fl_M1, name='M-1')\n",
    "M2 = poppy.QuadraticLens(fl_M2, name='M-2')\n",
    "\n",
    "# OAP mirrors\n",
    "OAP0 = poppy.QuadraticLens(fl_oap0, name='OAP-0')\n",
    "OAP1 = poppy.QuadraticLens(fl_oap1, name='OAP-1')\n",
    "OAP2 = poppy.QuadraticLens(fl_oap2, name='OAP-2')\n",
    "OAP3 = poppy.QuadraticLens(fl_oap3, name='OAP-3')\n",
    "OAP4 = poppy.QuadraticLens(fl_oap4, name='OAP-4')\n",
    "OAP51 = poppy.QuadraticLens(fl_oap51, name='OAP-5-1')\n",
    "OAP52 = poppy.QuadraticLens(fl_oap52, name='OAP-5-2')\n",
    "OAP53 = poppy.QuadraticLens(fl_oap53, name='OAP-5-3')\n",
    "\n",
    "# load pupil mask\n",
    "pupil = mf.surfFITS(file_loc='/home/jhen/XWCL/code/MagAOX/data/MagAOX_f11_pupil_{0}_unmasked.fits'.format(samp),\n",
    "                 optic_type='trans', opdunit='none', name='MagAO-X Pupil (unmasked)')"
   ]
  },
  {
   "cell_type": "code",
   "execution_count": 17,
   "metadata": {},
   "outputs": [
    {
     "data": {
      "text/plain": [
       "(0.02002606862820187,\n",
       " 0.14170577668927423,\n",
       " 0.08537819474123454,\n",
       " 0.1499617806666119,\n",
       " 0.21987178979739538)"
      ]
     },
     "execution_count": 17,
     "metadata": {},
     "output_type": "execute_result"
    }
   ],
   "source": [
    "# print out focal plane distances\n",
    "(d_k3_f11fp.value, \n",
    " d_fold1_f16fp.value, \n",
    " d_flat5_f57fp.value, \n",
    " d_fold2_f69fp.value, \n",
    " d_fold4_f69sci.value)"
   ]
  },
  {
   "cell_type": "code",
   "execution_count": 18,
   "metadata": {},
   "outputs": [
    {
     "data": {
      "text/plain": [
       "(2.6068628201869615e-05,\n",
       " 0.00014377668927423315,\n",
       " -7.080525876546062e-05,\n",
       " -4.621933338810891e-05,\n",
       " 1.2789797395384994e-05)"
      ]
     },
     "execution_count": 18,
     "metadata": {},
     "output_type": "execute_result"
    }
   ],
   "source": [
    "# print out delta correction\n",
    "(f11_delta.value,\n",
    "f16_delta.value,\n",
    "f57_delta.value,\n",
    "f69_delta.value,\n",
    "f69sci_delta.value)"
   ]
  },
  {
   "cell_type": "markdown",
   "metadata": {},
   "source": [
    "# Task 1: Focal Plane PSF generation"
   ]
  },
  {
   "cell_type": "markdown",
   "metadata": {},
   "source": [
    "## Part 1: Build to F/11 focal plane"
   ]
  },
  {
   "cell_type": "code",
   "execution_count": 6,
   "metadata": {},
   "outputs": [
    {
     "data": {
      "text/plain": [
       "<poppy.optics.ScalarTransmission at 0x7f7c03fd7690>"
      ]
     },
     "execution_count": 6,
     "metadata": {},
     "output_type": "execute_result"
    }
   ],
   "source": [
    "magaox = poppy.FresnelOpticalSystem(pupil_diameter=2*M1_radius, \n",
    "                                       npix=samp,\n",
    "                                       beam_ratio=oversamp)\n",
    "# Entrance Aperture\n",
    "magaox.add_optic(poppy.CircularAperture(radius=M1_radius))\n",
    "\n",
    "# Add Pupil\n",
    "magaox.add_optic(pupil)\n",
    "\n",
    "# Surface: Primary Mirror\n",
    "magaox.add_optic(M1)\n",
    "magaox.add_optic(poppy.CircularAperture(radius=M1_radius,name=\"M-1 aperture\"))\n",
    "\n",
    "# Surface: Secondary Mirror\n",
    "magaox.add_optic(M2, distance=d_m1_m2)\n",
    "magaox.add_optic(poppy.CircularAperture(radius=M2_radius,name=\"M-2 aperture\"))\n",
    "\n",
    "# Surface: Tertiary mirror\n",
    "magaox.add_optic(poppy.ScalarTransmission(planetype=PlaneType.intermediate, name=\"M-3\"), \n",
    "                                            distance=d_m2_m3)\n",
    "magaox.add_optic(poppy.CircularAperture(radius=M3_radius, name=\"M-3 aperture\"))\n",
    "\n",
    "# Surface: Periscope Mirror 1 (F-1)\n",
    "magaox.add_optic(poppy.ScalarTransmission(planetype=PlaneType.intermediate, name=\"F-1\"), \n",
    "                                            distance=d_m3_wfsdichroic+d_wfsdichroic_peri1)\n",
    "magaox.add_optic(poppy.CircularAperture(radius=flat_1in_radius, name=\"F-1 aperture\"))\n",
    "\n",
    "# Begin K-mirror setup\n",
    "# Surface: K-1\n",
    "magaox.add_optic(poppy.ScalarTransmission(planetype=PlaneType.intermediate, name=\"K-1\"), distance=d_peri1_k1)\n",
    "magaox.add_optic(poppy.CircularAperture(radius=flat_1in_radius, name=\"K-1 aperture\"))\n",
    "\n",
    "# Surface: K-2\n",
    "magaox.add_optic(poppy.ScalarTransmission(planetype=PlaneType.intermediate, name=\"K-2\"), distance=d_k1_k2)\n",
    "magaox.add_optic(poppy.CircularAperture(radius=flat_0p5in_radius, name=\"K-2 aperture\"))\n",
    "\n",
    "# Surface: K-3\n",
    "magaox.add_optic(poppy.ScalarTransmission(planetype=PlaneType.intermediate, name=\"K-3\"), distance=d_k2_k3)\n",
    "magaox.add_optic(poppy.CircularAperture(radius=flat_19mm_radius, name=\"K-3 aperture\"))\n",
    "\n",
    "# Surface: F/11 Focal Plane\n",
    "magaox.add_optic(poppy.ScalarTransmission(planetype=PlaneType.intermediate, \n",
    "                                          name=\"F/11 focal plane (uncorrected)\"), \n",
    "                                          distance=d_k3_f11fp)"
   ]
  },
  {
   "cell_type": "markdown",
   "metadata": {},
   "source": [
    "### Need to calculate correction for F/11 focus point"
   ]
  },
  {
   "cell_type": "code",
   "execution_count": 10,
   "metadata": {
    "scrolled": true
   },
   "outputs": [
    {
     "data": {
      "text/plain": [
       "2.6068628201869615e-05"
      ]
     },
     "execution_count": 10,
     "metadata": {},
     "output_type": "execute_result"
    }
   ],
   "source": [
    "# Focal plane correction for F/11\n",
    "unfixed_f11fp_psf, unfixed_f11fp_wfs = magaox.calc_psf(wavelength=testWavelength.value, display_intermediates=False, return_intermediates=True)\n",
    "f11_last_wave = unfixed_f11fp_wfs[-1]\n",
    "f11_delta = f11_last_wave.z_w0 - f11_last_wave.z #f11_delta is the change in distance to compensate the gaussian beam waist.\n",
    "\n",
    "# Incorporate the correction distance to see the F/11 PSF.\n",
    "magaox.add_optic(poppy.ScalarTransmission(planetype=PlaneType.intermediate, name=\"F/11 focal plane (corrected)\"), distance=f11_delta)\n",
    "\n",
    "f11_delta.value"
   ]
  },
  {
   "cell_type": "markdown",
   "metadata": {},
   "source": [
    "## Part 2: Build to ASM F/16 focal plane.\n",
    "This is the start of the MagAO-X design."
   ]
  },
  {
   "cell_type": "code",
   "execution_count": 7,
   "metadata": {
    "scrolled": true
   },
   "outputs": [
    {
     "data": {
      "text/plain": [
       "<poppy.optics.ScalarTransmission at 0x7f7c03fda910>"
      ]
     },
     "execution_count": 7,
     "metadata": {},
     "output_type": "execute_result"
    }
   ],
   "source": [
    "# Surface: Periscope Mirror 2 (F-2)\n",
    "magaox.add_optic(poppy.ScalarTransmission(planetype=PlaneType.intermediate, name=\"F-2\"), distance=d_f11fp_peri2)\n",
    "magaox.add_optic(poppy.CircularAperture(radius=flat_1in_radius, name=\"F-2 aperture\"))\n",
    "\n",
    "# Surface: OAP-0 (O-0)\n",
    "magaox.add_optic(OAP0, distance=d_peri2_oap0)\n",
    "magaox.add_optic(poppy.CircularAperture(radius=oap_radius,name=\"OAP-0 aperture\"))\n",
    "\n",
    "# Surface: woofer DM mirror\n",
    "magaox.add_optic(poppy.ScalarTransmission(planetype=PlaneType.intermediate, name=\"woofer mirror\"), distance=d_oap0_woofer)\n",
    "magaox.add_optic(poppy.CircularAperture(radius=dm_radius, name=\"woofer mirror aperture\"))\n",
    "\n",
    "# Surface: OAP-1 (O-1)\n",
    "magaox.add_optic(OAP1, distance=d_woofer_oap1)\n",
    "magaox.add_optic(poppy.CircularAperture(radius=oap_radius,name=\"OAP-1 aperture\"))\n",
    "\n",
    "# Surface: Fold Mirror 1 (F-3)\n",
    "magaox.add_optic(poppy.ScalarTransmission(planetype=PlaneType.intermediate, name=\"F-3\"), distance=d_oap1_fold1)\n",
    "magaox.add_optic(poppy.CircularAperture(radius=flat_1in_radius, name=\"F-3 aperture\"))\n",
    "\n",
    "# Surface: ASM F/16 Focal Plane\n",
    "magaox.add_optic(poppy.ScalarTransmission(planetype=PlaneType.intermediate, name=\"ASM F/16 Focal Plane (uncorrected)\"), distance=d_fold1_f16fp)"
   ]
  },
  {
   "cell_type": "markdown",
   "metadata": {},
   "source": [
    "### Need to calculate correction for F/16 focus point"
   ]
  },
  {
   "cell_type": "code",
   "execution_count": 13,
   "metadata": {
    "scrolled": true
   },
   "outputs": [
    {
     "data": {
      "text/plain": [
       "0.00014377668927423315"
      ]
     },
     "execution_count": 13,
     "metadata": {},
     "output_type": "execute_result"
    }
   ],
   "source": [
    "# Focal plane correction for F/16 ASM\n",
    "unfixed_f16fp_psf, unfixed_f16fp_wfs = magaox.calc_psf(wavelength=testWavelength.value, \n",
    "                                                       display_intermediates=False, return_intermediates=True)\n",
    "f16_last_wave = unfixed_f16fp_wfs[-1]\n",
    "f16_delta = f16_last_wave.z_w0 - f16_last_wave.z #f16_delta is the change in distance to compensate the gaussian beam waist.\n",
    "\n",
    "# Incorporate the correction distance to see the F/16 ASM PSF.\n",
    "magaox.add_optic(poppy.ScalarTransmission(planetype=PlaneType.intermediate, \n",
    "                                          name=\"ASM F/16 focal plane (corrected)\"), distance=f16_delta)\n",
    "\n",
    "f16_delta.value"
   ]
  },
  {
   "cell_type": "markdown",
   "metadata": {},
   "source": [
    "## Part 3: Build to F/57 Focal Plane"
   ]
  },
  {
   "cell_type": "code",
   "execution_count": 8,
   "metadata": {},
   "outputs": [
    {
     "data": {
      "text/plain": [
       "<poppy.optics.ScalarTransmission at 0x7f7c03fc1790>"
      ]
     },
     "execution_count": 8,
     "metadata": {},
     "output_type": "execute_result"
    }
   ],
   "source": [
    "# Surface: OAP-2 (O-2)\n",
    "magaox.add_optic(OAP2, distance=d_f16fp_oap2)\n",
    "magaox.add_optic(poppy.CircularAperture(radius=oap_radius,name=\"OAP-2 aperture\"))\n",
    "\n",
    "# Surface: tweeter mirror\n",
    "magaox.add_optic(poppy.ScalarTransmission(planetype=PlaneType.intermediate, name=\"tweeter mirror\"), distance=d_oap2_tweeter)\n",
    "magaox.add_optic(poppy.CircularAperture(radius=dm_radius, name=\"tweeter mirror aperture\"))\n",
    "\n",
    "# SKIP: ADC, will go from tweeter to OAP-3\n",
    "\n",
    "# Surface: OAP-3\n",
    "magaox.add_optic(OAP3, distance=d_tweeter_oap3)\n",
    "magaox.add_optic(poppy.CircularAperture(radius=oap_radius,name=\"OAP-3 aperture\"))\n",
    "\n",
    "# Surface: Flat mirror (F-4), Breadboard Mirror 1\n",
    "magaox.add_optic(poppy.ScalarTransmission(planetype=PlaneType.intermediate, name=\"F-4\"), distance=d_oap3_flat4)\n",
    "magaox.add_optic(poppy.CircularAperture(radius=flat_2in_radius, name=\"F-4 aperture\"))\n",
    "\n",
    "# Surface: Flat mirror (F-5), Breadboard Mirror 5\n",
    "magaox.add_optic(poppy.ScalarTransmission(planetype=PlaneType.intermediate, name=\"F-5\"), distance=d_flat4_flat5)\n",
    "magaox.add_optic(poppy.CircularAperture(radius=flat_2in_radius, name=\"F-5 aperture\"))\n",
    "\n",
    "# Surface: F/57 Focal Plane\n",
    "magaox.add_optic(poppy.ScalarTransmission(planetype=PlaneType.intermediate, name=\"F/57 Focal Plane (uncorrected)\"), distance=d_flat5_f57fp)"
   ]
  },
  {
   "cell_type": "markdown",
   "metadata": {},
   "source": [
    "### Need to calculate correction for F/57 focus point"
   ]
  },
  {
   "cell_type": "code",
   "execution_count": 14,
   "metadata": {},
   "outputs": [
    {
     "data": {
      "text/plain": [
       "-7.080525876546062e-05"
      ]
     },
     "execution_count": 14,
     "metadata": {},
     "output_type": "execute_result"
    }
   ],
   "source": [
    "# Focal plane correction for F/57\n",
    "unfixed_f57fp_psf, unfixed_f57fp_wfs = magaox.calc_psf(wavelength=testWavelength.value, \n",
    "                                                       display_intermediates=False, return_intermediates=True)\n",
    "f57_last_wave = unfixed_f57fp_wfs[-1]\n",
    "f57_delta = f57_last_wave.z_w0 - f57_last_wave.z \n",
    "#f57_delta is the change in distance to compensate the gaussian beam waist.\n",
    "\n",
    "# Incorporate the correction distance to see the F/57 PSF.\n",
    "magaox.add_optic(poppy.ScalarTransmission(planetype=PlaneType.intermediate, \n",
    "                                          name=\"F/57 focal plane (corrected)\"), distance=f57_delta)\n",
    "\n",
    "f57_delta.value"
   ]
  },
  {
   "cell_type": "markdown",
   "metadata": {},
   "source": [
    "## Part 4: Build to F/69 Focal Plane"
   ]
  },
  {
   "cell_type": "code",
   "execution_count": 9,
   "metadata": {},
   "outputs": [
    {
     "data": {
      "text/plain": [
       "<poppy.optics.ScalarTransmission at 0x7f7c03fd7cd0>"
      ]
     },
     "execution_count": 9,
     "metadata": {},
     "output_type": "execute_result"
    }
   ],
   "source": [
    "# Surface: OAP-4 (O-4)\n",
    "magaox.add_optic(OAP4, distance=d_f57fp_oap4)\n",
    "magaox.add_optic(poppy.CircularAperture(radius=oap_radius,name=\"OAP-4 aperture\"))\n",
    "\n",
    "# Surface: NCP DM\n",
    "magaox.add_optic(poppy.ScalarTransmission(planetype=PlaneType.intermediate, name=\"NCP DM\"), \n",
    "                 distance=d_oap4_NCPDM)\n",
    "magaox.add_optic(poppy.CircularAperture(radius=dm_radius, name=\"NCP DM aperture\"))\n",
    "\n",
    "# Surface: vAPP coronagraph (transmit through pupil plane)\n",
    "magaox.add_optic(poppy.ScalarTransmission(planetype=PlaneType.intermediate, name=\"vAPP mask\"), \n",
    "                 distance=d_NCPDM_vapp)\n",
    "\n",
    "# Surface: Flat mirror (F-6), special L/10 silver mirror\n",
    "magaox.add_optic(poppy.ScalarTransmission(planetype=PlaneType.intermediate, name=\"F-6\"), \n",
    "                 distance=d_vapp_flat6)\n",
    "magaox.add_optic(poppy.CircularAperture(radius=flat_1in_radius, name=\"F-6 aperture\"))\n",
    "\n",
    "# Surface: OAP-5 (O-5)\n",
    "magaox.add_optic(OAP51, distance=d_flat6_oap51)\n",
    "magaox.add_optic(poppy.CircularAperture(radius=oap_radius,name=\"OAP-5-1 aperture\"))\n",
    "\n",
    "# Surface: Fold Mirror 2 (F-7)\n",
    "magaox.add_optic(poppy.ScalarTransmission(planetype=PlaneType.intermediate, name=\"F-7\"), \n",
    "                 distance=d_oap51_fold2)\n",
    "magaox.add_optic(poppy.CircularAperture(radius=flat_1in_radius, name=\"F-7 aperture\"))\n",
    "\n",
    "# Surface: F/69 Focal Plane\n",
    "magaox.add_optic(poppy.ScalarTransmission(planetype=PlaneType.intermediate, \n",
    "                                          name=\"F/69 Focal Plane (uncorrected)\"), distance=d_fold2_f69fp)"
   ]
  },
  {
   "cell_type": "markdown",
   "metadata": {},
   "source": [
    "### Need to calculate correction for F/69 focus point"
   ]
  },
  {
   "cell_type": "code",
   "execution_count": 10,
   "metadata": {},
   "outputs": [
    {
     "data": {
      "text/plain": [
       "-4.621933338810891e-05"
      ]
     },
     "execution_count": 10,
     "metadata": {},
     "output_type": "execute_result"
    }
   ],
   "source": [
    "# Focal plane correction for F/69\n",
    "unfixed_f69fp_psf, unfixed_f69fp_wfs = magaox.calc_psf(wavelength=testWavelength.value, \n",
    "                                                       display_intermediates=False, return_intermediates=True)\n",
    "f69_last_wave = unfixed_f69fp_wfs[-1]\n",
    "f69_delta = f69_last_wave.z_w0 - f69_last_wave.z \n",
    "#f69_delta is the change in distance to compensate the gaussian beam waist.\n",
    "\n",
    "# Incorporate the correction distance to see the F/69 PSF.\n",
    "magaox.add_optic(poppy.ScalarTransmission(planetype=PlaneType.intermediate, \n",
    "                                          name=\"F/69 focal plane (corrected)\"), distance=f69_delta)\n",
    "\n",
    "f69_delta.value"
   ]
  },
  {
   "cell_type": "markdown",
   "metadata": {},
   "source": [
    "## Part 5: Build to Science F/69 Focal Plane"
   ]
  },
  {
   "cell_type": "code",
   "execution_count": 10,
   "metadata": {},
   "outputs": [
    {
     "data": {
      "text/plain": [
       "<poppy.optics.ScalarTransmission at 0x7f7c03fda990>"
      ]
     },
     "execution_count": 10,
     "metadata": {},
     "output_type": "execute_result"
    }
   ],
   "source": [
    "# Surface: OAP-6 (O-6)\n",
    "magaox.add_optic(OAP52, distance=d_f69fp_oap52)\n",
    "magaox.add_optic(poppy.CircularAperture(radius=oap_radius,name=\"OAP-5-2 aperture\"))\n",
    "\n",
    "# Surface: 9mm Lyot Stop\n",
    "magaox.add_optic(poppy.ScalarTransmission(planetype=PlaneType.intermediate, name=\"Lyot\"), distance=d_oap52_lyot)\n",
    "\n",
    "# Surface: Fold Mirror 3 (F-11)\n",
    "magaox.add_optic(poppy.ScalarTransmission(planetype=PlaneType.intermediate, name=\"F-11\"), distance=d_lyot_fold3)\n",
    "magaox.add_optic(poppy.CircularAperture(radius=flat_2in_radius, name=\"F-11 aperture\"))\n",
    "\n",
    "# Surface: OAP-7\n",
    "magaox.add_optic(OAP53, distance=d_fold3_oap53)\n",
    "magaox.add_optic(poppy.CircularAperture(radius=oap_radius,name=\"OAP-5-3 aperture\"))\n",
    "\n",
    "# Surface: Fold Mirror 4 (F-12)\n",
    "magaox.add_optic(poppy.ScalarTransmission(planetype=PlaneType.intermediate, name=\"F-12\"), distance=d_oap53_fold4)\n",
    "magaox.add_optic(poppy.CircularAperture(radius=flat_2in_radius, name=\"F-12 aperture\"))\n",
    "\n",
    "# Surface: Science F/69 Focal Plane\n",
    "magaox.add_optic(poppy.ScalarTransmission(planetype=PlaneType.intermediate, name=\"F/69 Science Focal Plane (uncorrected)\"), distance=d_fold4_f69sci)"
   ]
  },
  {
   "cell_type": "markdown",
   "metadata": {},
   "source": [
    "### Need to calculate correction for F/69 Science focus point"
   ]
  },
  {
   "cell_type": "code",
   "execution_count": 11,
   "metadata": {},
   "outputs": [
    {
     "data": {
      "text/plain": [
       "1.2789797395384994e-05"
      ]
     },
     "execution_count": 11,
     "metadata": {},
     "output_type": "execute_result"
    }
   ],
   "source": [
    "# Focal plane correction for F/69 Science\n",
    "unfixed_f69scifp_psf, unfixed_f69scifp_wfs = magaox.calc_psf(wavelength=testWavelength.value, \n",
    "                                                            display_intermediates=False, \n",
    "                                                            return_intermediates=True)\n",
    "f69sci_last_wave = unfixed_f69scifp_wfs[-1]\n",
    "f69sci_delta = f69sci_last_wave.z_w0 - f69sci_last_wave.z \n",
    "\n",
    "# Incorporate the correction distance to see the F/69 PSF.\n",
    "magaox.add_optic(poppy.ScalarTransmission(planetype=PlaneType.intermediate, \n",
    "                                          name=\"F/69 Science Focal Plane (corrected)\"), \n",
    "                 distance=f69sci_delta)\n",
    "\n",
    "f69sci_delta.value"
   ]
  },
  {
   "cell_type": "markdown",
   "metadata": {},
   "source": [
    "### Find the vAPP pupil plane and calculate the radius for csv file"
   ]
  },
  {
   "cell_type": "code",
   "execution_count": 14,
   "metadata": {},
   "outputs": [
    {
     "name": "stdout",
     "output_type": "stream",
     "text": [
      " 0 -  Circle - 0.0126953125 m / pix - 6.5 m\n",
      " 1 -  MagAO- - 0.0126953125 m / pix - 6.5 m\n",
      " 2 -  M-1    - 0.0126953125 m / pix - 6.5 m\n",
      " 3 -  M-1 ap - 0.0126953125 m / pix - 6.5 m\n",
      " 4 -  M-2    - 0.002490437734 m / pix - 1.2751 m\n",
      " 5 -  M-2 ap - 0.002490437734 m / pix - 1.2751 m\n",
      " 6 -  M-3    - 0.0008856552898 m / pix - 0.45346 m\n",
      " 7 -  M-3 ap - 0.0008856552898 m / pix - 0.45346 m\n",
      " 8 -  F-1    - 1.601192696e-05 m / pix - 0.0081981 m\n",
      " 9 -  F-1 ap - 1.601192696e-05 m / pix - 0.0081981 m\n",
      "10 -  K-1    - 1.245475131e-05 m / pix - 0.0063768 m\n",
      "11 -  K-1 ap - 1.245475131e-05 m / pix - 0.0063768 m\n",
      "12 -  K-2    - 8.008281748e-06 m / pix - 0.0041002 m\n",
      "13 -  K-2 ap - 8.008281748e-06 m / pix - 0.0041002 m\n",
      "14 -  K-3    - 3.561812185e-06 m / pix - 0.0018236 m\n",
      "15 -  K-3 ap - 3.561812185e-06 m / pix - 0.0018236 m\n",
      "16 -  F/11 f - 1.801760812e-06 m / pix - 0.0009225 m\n",
      "17 -  F-2    - 5.905623015e-06 m / pix - 0.0030237 m\n",
      "18 -  F-2 ap - 5.905623015e-06 m / pix - 0.0030237 m\n",
      "19 -  OAP-0  - 2.555848491e-05 m / pix - 0.013086 m\n",
      "20 -  OAP-0  - 2.555848491e-05 m / pix - 0.013086 m\n",
      "21 -  woofer - 2.555848491e-05 m / pix - 0.013086 m\n",
      "22 -  woofer - 2.555848491e-05 m / pix - 0.013086 m\n",
      "23 -  OAP-1  - 2.555848491e-05 m / pix - 0.013086 m\n",
      "24 -  OAP-1  - 2.555848491e-05 m / pix - 0.013086 m\n",
      "25 -  F-3    - 1.717464335e-05 m / pix - 0.0087934 m\n",
      "26 -  F-3 ap - 1.717464335e-05 m / pix - 0.0087934 m\n",
      "27 -  ASM F/ - 2.644065926e-06 m / pix - 0.0013538 m\n",
      "28 -  OAP-2  - 3.68213221e-05 m / pix - 0.018853 m\n",
      "29 -  OAP-2  - 3.68213221e-05 m / pix - 0.018853 m\n",
      "30 -  tweete - 3.68213221e-05 m / pix - 0.018853 m\n",
      "31 -  tweete - 3.68213221e-05 m / pix - 0.018853 m\n",
      "32 -  OAP-3  - 3.68213221e-05 m / pix - 0.018853 m\n",
      "33 -  OAP-3  - 3.68213221e-05 m / pix - 0.018853 m\n",
      "34 -  F-4    - 2.264677549e-05 m / pix - 0.011595 m\n",
      "35 -  F-4 ap - 2.264677549e-05 m / pix - 0.011595 m\n",
      "36 -  F-5    - 2.933704716e-06 m / pix - 0.0015021 m\n",
      "37 -  F-5 ap - 2.933704716e-06 m / pix - 0.0015021 m\n",
      "38 -  F/57 F - 9.326163408e-06 m / pix - 0.004775 m\n",
      "39 -  OAP-4  - 1.7628234e-05 m / pix - 0.0090257 m\n",
      "40 -  OAP-4  - 1.7628234e-05 m / pix - 0.0090257 m\n",
      "41 -  NCP DM - 1.7628234e-05 m / pix - 0.0090257 m\n",
      "42 -  NCP DM - 1.7628234e-05 m / pix - 0.0090257 m\n",
      "43 -  vAPP m - 1.7628234e-05 m / pix - 0.0090257 m\n",
      "44 -  F-6    - 1.7628234e-05 m / pix - 0.0090257 m\n",
      "45 -  F-6 ap - 1.7628234e-05 m / pix - 0.0090257 m\n",
      "46 -  OAP-5- - 1.7628234e-05 m / pix - 0.0090257 m\n",
      "47 -  OAP-5- - 1.7628234e-05 m / pix - 0.0090257 m\n",
      "48 -  F-7    - 4.257115496e-06 m / pix - 0.0021796 m\n",
      "49 -  F-7 ap - 4.257115496e-06 m / pix - 0.0021796 m\n",
      "50 -  F/69 F - 1.128853562e-05 m / pix - 0.0057797 m\n",
      "51 -  OAP-5- - 1.76280699e-05 m / pix - 0.0090256 m\n",
      "52 -  OAP-5- - 1.76280699e-05 m / pix - 0.0090256 m\n",
      "53 -  Lyot   - 1.76280699e-05 m / pix - 0.0090256 m\n",
      "54 -  F-11   - 1.76280699e-05 m / pix - 0.0090256 m\n",
      "55 -  F-11 a - 1.76280699e-05 m / pix - 0.0090256 m\n",
      "56 -  OAP-5- - 1.76280699e-05 m / pix - 0.0090256 m\n",
      "57 -  OAP-5- - 1.76280699e-05 m / pix - 0.0090256 m\n",
      "58 -  F-12   - 6.241662856e-06 m / pix - 0.0031957 m\n",
      "59 -  F-12 a - 6.241662856e-06 m / pix - 0.0031957 m\n",
      "60 -  F/69 S - 1.128864088e-05 m / pix - 0.0057798 m\n"
     ]
    }
   ],
   "source": [
    "for n in range(0, len(unfixed_f69scifp_wfs)):\n",
    "    loc = unfixed_f69scifp_wfs[n].location[5:12]\n",
    "    pixscale = unfixed_f69scifp_wfs[n]._pixelscale_m\n",
    "    diam = pixscale * samp*u.pix\n",
    "    print('{0:2} - {1:7} - {2:10.10} - {3:.5}'.format(n, loc, pixscale, diam))"
   ]
  },
  {
   "cell_type": "code",
   "execution_count": 15,
   "metadata": {},
   "outputs": [
    {
     "data": {
      "text/plain": [
       "0.004512827904881557"
      ]
     },
     "execution_count": 15,
     "metadata": {},
     "output_type": "execute_result"
    }
   ],
   "source": [
    "vAPP_diam = unfixed_f69scifp_wfs[43]._pixelscale_m * samp * u.pix\n",
    "(vAPP_diam/2).value"
   ]
  }
 ],
 "metadata": {
  "anaconda-cloud": {},
  "kernelspec": {
   "display_name": "Python 3",
   "language": "python",
   "name": "python3"
  },
  "language_info": {
   "codemirror_mode": {
    "name": "ipython",
    "version": 3
   },
   "file_extension": ".py",
   "mimetype": "text/x-python",
   "name": "python",
   "nbconvert_exporter": "python",
   "pygments_lexer": "ipython3",
   "version": "3.7.4"
  }
 },
 "nbformat": 4,
 "nbformat_minor": 4
}
